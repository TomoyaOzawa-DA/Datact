{
 "cells": [
  {
   "cell_type": "markdown",
   "metadata": {},
   "source": [
    "# 協調フィルタリング: kNN回帰\n",
    "## 0. はじめに\n",
    "### 0.1. ゴール\n",
    "- 協調フィルタリング（kNN回帰）を映画のレビューデータに実装して、レコメンドシステムを作成する。\n",
    "    - 厳密には協調フィルタリングとkNN回帰は違うが、ロジックはほぼ一緒です。"
   ]
  },
  {
   "cell_type": "markdown",
   "metadata": {},
   "source": [
    "## 1. 簡単な例で試してみる\n",
    "### 1.1. イントロ\n",
    "映画のレコメンドを考えてみましょう。映画「[ダークナイト](https://eiga.com/movie/53214/)」に対するTakutoさんの評価を予測してみます。アイデアとしては、Takutoさんと趣味嗜好が似ている人たちの評価をベースに予測します。（ユーザーベース）つまり、2つのタスクがあります。\n",
    "- Takutoさんと他の人たちがどの程度趣味嗜好が似ているのかを定量的に評価する。\n",
    "- 似ている度合いが高い人たちの評価を参考にTakutoさんの評価を予測する。\n",
    "\n",
    "※元ネタは[こちら](https://blog.brainpad.co.jp/entry/2017/02/03/153000)です。Pythonに書き直しました。"
   ]
  },
  {
   "cell_type": "code",
   "execution_count": 45,
   "metadata": {},
   "outputs": [],
   "source": [
    "# 必要なライブラリを一括で読み込み\n",
    "import pandas as pd\n",
    "from numpy import nan as NA\n",
    "import numpy as np\n",
    "import matplotlib.pyplot as plt\n",
    "import seaborn as sns\n",
    "import japanize_matplotlib\n",
    "import matplotlib.patches as patches\n",
    "from sklearn import neighbors"
   ]
  },
  {
   "cell_type": "markdown",
   "metadata": {},
   "source": [
    "Section 1で扱うデータを作成します。ユーザー5人（Takutoさん, Koheiさん, Jouさん, Hajimeさん, Kojiさん）が5つの映画作品に対してレビューしたデータになっています。DataFrameの作り方についてはこちらを参考にしてください。"
   ]
  },
  {
   "cell_type": "code",
   "execution_count": 46,
   "metadata": {},
   "outputs": [
    {
     "data": {
      "text/html": [
       "<div>\n",
       "<style scoped>\n",
       "    .dataframe tbody tr th:only-of-type {\n",
       "        vertical-align: middle;\n",
       "    }\n",
       "\n",
       "    .dataframe tbody tr th {\n",
       "        vertical-align: top;\n",
       "    }\n",
       "\n",
       "    .dataframe thead th {\n",
       "        text-align: right;\n",
       "    }\n",
       "</style>\n",
       "<table border=\"1\" class=\"dataframe\">\n",
       "  <thead>\n",
       "    <tr style=\"text-align: right;\">\n",
       "      <th></th>\n",
       "      <th>作品1</th>\n",
       "      <th>作品2</th>\n",
       "      <th>作品3</th>\n",
       "      <th>作品4</th>\n",
       "      <th>ダークナイト</th>\n",
       "    </tr>\n",
       "    <tr>\n",
       "      <th>name</th>\n",
       "      <th></th>\n",
       "      <th></th>\n",
       "      <th></th>\n",
       "      <th></th>\n",
       "      <th></th>\n",
       "    </tr>\n",
       "  </thead>\n",
       "  <tbody>\n",
       "    <tr>\n",
       "      <td>Takuto</td>\n",
       "      <td>5</td>\n",
       "      <td>3</td>\n",
       "      <td>4</td>\n",
       "      <td>2</td>\n",
       "      <td>NaN</td>\n",
       "    </tr>\n",
       "    <tr>\n",
       "      <td>Kohei</td>\n",
       "      <td>3</td>\n",
       "      <td>1</td>\n",
       "      <td>2</td>\n",
       "      <td>3</td>\n",
       "      <td>3.0</td>\n",
       "    </tr>\n",
       "    <tr>\n",
       "      <td>Jou</td>\n",
       "      <td>4</td>\n",
       "      <td>3</td>\n",
       "      <td>4</td>\n",
       "      <td>2</td>\n",
       "      <td>5.0</td>\n",
       "    </tr>\n",
       "    <tr>\n",
       "      <td>Hajime</td>\n",
       "      <td>3</td>\n",
       "      <td>3</td>\n",
       "      <td>1</td>\n",
       "      <td>5</td>\n",
       "      <td>4.0</td>\n",
       "    </tr>\n",
       "    <tr>\n",
       "      <td>Koji</td>\n",
       "      <td>1</td>\n",
       "      <td>5</td>\n",
       "      <td>5</td>\n",
       "      <td>2</td>\n",
       "      <td>1.0</td>\n",
       "    </tr>\n",
       "  </tbody>\n",
       "</table>\n",
       "</div>"
      ],
      "text/plain": [
       "        作品1  作品2  作品3  作品4  ダークナイト\n",
       "name                              \n",
       "Takuto    5    3    4    2     NaN\n",
       "Kohei     3    1    2    3     3.0\n",
       "Jou       4    3    4    2     5.0\n",
       "Hajime    3    3    1    5     4.0\n",
       "Koji      1    5    5    2     1.0"
      ]
     },
     "execution_count": 46,
     "metadata": {},
     "output_type": "execute_result"
    }
   ],
   "source": [
    "df = pd.DataFrame({'name':['Takuto','Kohei','Jou','Hajime','Koji'],\n",
    "                   '作品1' : np.array([5,3,4,3,1]),\n",
    "                   '作品2' : np.array([3,1,3,3,5]),\n",
    "                   '作品3' : np.array([4,2,4,1,5]),\n",
    "                   '作品4' : np.array([2,3,2,5,2]),\n",
    "                   'ダークナイト' : np.array([np.NaN,3,5,4,1])})\n",
    "df = df.set_index('name', drop=True)\n",
    "df.head()"
   ]
  },
  {
   "cell_type": "markdown",
   "metadata": {},
   "source": [
    "ヒートマップを使って可視化してみました。色の濃淡が似ているほど評価が似ていることを表します。Takutoさんと一番趣味嗜好が似ているのはどなたでしょう？？"
   ]
  },
  {
   "cell_type": "code",
   "execution_count": 47,
   "metadata": {},
   "outputs": [
    {
     "data": {
      "text/plain": [
       "<matplotlib.axes._subplots.AxesSubplot at 0x1da7c5b97c8>"
      ]
     },
     "execution_count": 47,
     "metadata": {},
     "output_type": "execute_result"
    },
    {
     "data": {
      "image/png": "[encoded data removed]",
      "text/plain": [
       "<Figure size 432x288 with 2 Axes>"
      ]
     },
     "metadata": {
      "needs_background": "light"
     },
     "output_type": "display_data"
    }
   ],
   "source": [
    "fig, ax = plt.subplots(figsize=(5, 5))# 見た目を整える\n",
    "sns.heatmap(df, annot=True, cmap='Oranges')\n",
    "ax.set_ylim(len(df), 0) # 見た目を整える"
   ]
  },
  {
   "cell_type": "markdown",
   "metadata": {},
   "source": [
    "### 1.2. ユークリッド距離\n",
    "どの程度似ているのかを定量的に評価してみます！今回の大事なポイントです。評価の仕方は複数ありますが、ここではまずユークリッド距離で評価してみましょう。\n",
    "※データの類似度の評価の仕方に関しては、[この資料](https://www.slideshare.net/SeiichiUchida/21-77833992)が分かりやすかったです。\n",
    "\n",
    "早速、TakutoさんJouさんのユークリッド距離を計算してみましょう！まずは手計算で算出してみてください。その後、Pythonで計算していきます。"
   ]
  },
  {
   "cell_type": "code",
   "execution_count": 48,
   "metadata": {},
   "outputs": [
    {
     "name": "stdout",
     "output_type": "stream",
     "text": [
      "TakutoさんとJouさんのユークリッド距離:  1\n"
     ]
    }
   ],
   "source": [
    "# Takutoさんの作品1の評価をデータフレームから抽出\n",
    "df.iloc[0, 0]\n",
    "# Jouさんの作品1の評価をデータフレームから抽出\n",
    "df.iloc[2, 0]\n",
    "# 作品1に関するユークリッド距離は\n",
    "dist = (df.iloc[0, 0]-df.iloc[2, 0])**2\n",
    "# これを作品2から作品4まで繰り返し、それらの和をとる\n",
    "for i in range(1, 4) :\n",
    "    dist_i = (df.iloc[0, i]-df.iloc[2, i])**2\n",
    "    dist = dist + dist_i\n",
    "\n",
    "print(\"TakutoさんとJouさんのユークリッド距離: \",dist)"
   ]
  },
  {
   "cell_type": "markdown",
   "metadata": {},
   "source": [
    "行列を用いると、もっと楽に早く計算することが可能に！データを扱うなら行列を学ぶべきです！自分も最近実感しました。"
   ]
  },
  {
   "cell_type": "code",
   "execution_count": 49,
   "metadata": {},
   "outputs": [
    {
     "name": "stdout",
     "output_type": "stream",
     "text": [
      "Takutoさんのレビュー:[5. 3. 4. 2.]\n",
      "Jouさんのレビュー:  [5. 3. 4. 2.]\n",
      "TakutoさんとJouさんのユークリッド距離:  1.0\n"
     ]
    },
    {
     "data": {
      "text/plain": [
       "1.0"
      ]
     },
     "execution_count": 49,
     "metadata": {},
     "output_type": "execute_result"
    }
   ],
   "source": [
    "# 行列で計算\n",
    "takuto = df.iloc[0, 0:4].values\n",
    "print(\"Takutoさんのレビュー\",takuto,sep=\":\")\n",
    "jou = df.iloc[2, 0:4].values\n",
    "print(\"Jouさんのレビュー: \",takuto)\n",
    "\n",
    "# 距離計算\n",
    "d_jou = np.sqrt(np.sum((takuto-jou)**2))\n",
    "print(\"TakutoさんとJouさんのユークリッド距離: \",d_jou)\n",
    "\n",
    "# コンパクトな関数もある \n",
    "np.linalg.norm(takuto - jou)"
   ]
  },
  {
   "cell_type": "markdown",
   "metadata": {},
   "source": [
    "これを全員分やると、、、"
   ]
  },
  {
   "cell_type": "code",
   "execution_count": 50,
   "metadata": {},
   "outputs": [
    {
     "name": "stdout",
     "output_type": "stream",
     "text": [
      "Takuto:0.0\n",
      "Kohei:3.605551275463989\n",
      "Jou:1.0\n",
      "Hajime:4.69041575982343\n",
      "Koji:4.58257569495584\n"
     ]
    }
   ],
   "source": [
    "name = df.index\n",
    "for i in range(5):\n",
    "    print(name[i],np.linalg.norm(takuto - df.iloc[i, 0:4].values), sep = \":\")"
   ]
  },
  {
   "cell_type": "markdown",
   "metadata": {},
   "source": [
    "ユークリッド距離をデータフレームに新しい変数として結合します。"
   ]
  },
  {
   "cell_type": "code",
   "execution_count": 51,
   "metadata": {},
   "outputs": [
    {
     "data": {
      "text/html": [
       "<div>\n",
       "<style scoped>\n",
       "    .dataframe tbody tr th:only-of-type {\n",
       "        vertical-align: middle;\n",
       "    }\n",
       "\n",
       "    .dataframe tbody tr th {\n",
       "        vertical-align: top;\n",
       "    }\n",
       "\n",
       "    .dataframe thead th {\n",
       "        text-align: right;\n",
       "    }\n",
       "</style>\n",
       "<table border=\"1\" class=\"dataframe\">\n",
       "  <thead>\n",
       "    <tr style=\"text-align: right;\">\n",
       "      <th></th>\n",
       "      <th>作品1</th>\n",
       "      <th>作品2</th>\n",
       "      <th>作品3</th>\n",
       "      <th>作品4</th>\n",
       "      <th>ダークナイト</th>\n",
       "      <th>eudist</th>\n",
       "    </tr>\n",
       "    <tr>\n",
       "      <th>name</th>\n",
       "      <th></th>\n",
       "      <th></th>\n",
       "      <th></th>\n",
       "      <th></th>\n",
       "      <th></th>\n",
       "      <th></th>\n",
       "    </tr>\n",
       "  </thead>\n",
       "  <tbody>\n",
       "    <tr>\n",
       "      <td>Takuto</td>\n",
       "      <td>5</td>\n",
       "      <td>3</td>\n",
       "      <td>4</td>\n",
       "      <td>2</td>\n",
       "      <td>NaN</td>\n",
       "      <td>0.000000</td>\n",
       "    </tr>\n",
       "    <tr>\n",
       "      <td>Kohei</td>\n",
       "      <td>3</td>\n",
       "      <td>1</td>\n",
       "      <td>2</td>\n",
       "      <td>3</td>\n",
       "      <td>3.0</td>\n",
       "      <td>3.605551</td>\n",
       "    </tr>\n",
       "    <tr>\n",
       "      <td>Jou</td>\n",
       "      <td>4</td>\n",
       "      <td>3</td>\n",
       "      <td>4</td>\n",
       "      <td>2</td>\n",
       "      <td>5.0</td>\n",
       "      <td>1.000000</td>\n",
       "    </tr>\n",
       "    <tr>\n",
       "      <td>Hajime</td>\n",
       "      <td>3</td>\n",
       "      <td>3</td>\n",
       "      <td>1</td>\n",
       "      <td>5</td>\n",
       "      <td>4.0</td>\n",
       "      <td>4.690416</td>\n",
       "    </tr>\n",
       "    <tr>\n",
       "      <td>Koji</td>\n",
       "      <td>1</td>\n",
       "      <td>5</td>\n",
       "      <td>5</td>\n",
       "      <td>2</td>\n",
       "      <td>1.0</td>\n",
       "      <td>4.582576</td>\n",
       "    </tr>\n",
       "  </tbody>\n",
       "</table>\n",
       "</div>"
      ],
      "text/plain": [
       "        作品1  作品2  作品3  作品4  ダークナイト    eudist\n",
       "name                                        \n",
       "Takuto    5    3    4    2     NaN  0.000000\n",
       "Kohei     3    1    2    3     3.0  3.605551\n",
       "Jou       4    3    4    2     5.0  1.000000\n",
       "Hajime    3    3    1    5     4.0  4.690416\n",
       "Koji      1    5    5    2     1.0  4.582576"
      ]
     },
     "execution_count": 51,
     "metadata": {},
     "output_type": "execute_result"
    }
   ],
   "source": [
    "df[\"eudist\"] = [0.,0.,0.,0.,0.]\n",
    "for i in range(5):\n",
    "    df.iloc[i,5] = np.linalg.norm(takuto - df.iloc[i, 0:4].values)\n",
    "df.head()                       "
   ]
  },
  {
   "cell_type": "markdown",
   "metadata": {},
   "source": [
    "このユークリッド距離を可視化してみます。こんなイメージです。Takutoさんと距離が近ければ近いほど似ている度合いが高いです。"
   ]
  },
  {
   "cell_type": "code",
   "execution_count": 52,
   "metadata": {},
   "outputs": [
    {
     "data": {
      "text/plain": [
       "(-5.159457335805772, 5.159457335805772, -5.159457335805772, 5.159457335805772)"
      ]
     },
     "execution_count": 52,
     "metadata": {},
     "output_type": "execute_result"
    },
    {
     "data": {
      "image/png": "[encoded data removed]",
      "text/plain": [
       "<Figure size 720x720 with 1 Axes>"
      ]
     },
     "metadata": {
      "needs_background": "light"
     },
     "output_type": "display_data"
    }
   ],
   "source": [
    "fig = plt.figure(figsize=(10, 10))\n",
    "ax = plt.axes()\n",
    "colorlist = ['#e41a1c', '#377eb8', '#4daf4a', '#984ea3', '#ff7f00', '#ffff33', '#a65628', '#f781bf']\n",
    "\n",
    "plt.plot(df.iloc[0,5],0,\"o\", color = colorlist[0])\n",
    "plt.text(df.iloc[0,5],0.1, name[0], color = colorlist[0], size = 15)\n",
    "    \n",
    "for i in range(1,5):\n",
    "    c = patches.Circle(xy=(0, 0), radius= df.iloc[i,5], fill=False, linestyle = \"dashed\", ec = colorlist[i])\n",
    "    ax.add_patch(c)\n",
    "    plt.plot((-1)**i*df.iloc[i,5],0,\"o\", color = colorlist[i])\n",
    "    plt.text((-1)**i*df.iloc[i,5],0.1, name[i], color = colorlist[i], size = 15)\n",
    "\n",
    "plt.title(\"ユークリッド距離\")\n",
    "ax.axis(\"off\")"
   ]
  },
  {
   "attachments": {
    "image.png": {
     "image/png": "[encoded data removed]"
    }
   },
   "cell_type": "markdown",
   "metadata": {},
   "source": [
    "### 1.3. 予測\n",
    "さて、類似度が出ましたので、この中からTakutoさんと類似度の高いユーザを2人(JouさんとKoheiさん)選んで、ダークナイトに対する評価を推定します。類似度の高い人の評価をより重視するために、類似度を重みとして2人の平均評価値（加重平均）をとります。イメージは以下の通りです。\n",
    "\n",
    "![image.png](attachment:image.png)"
   ]
  },
  {
   "cell_type": "code",
   "execution_count": 53,
   "metadata": {},
   "outputs": [
    {
     "data": {
      "text/plain": [
       "4.565741454089334"
      ]
     },
     "execution_count": 53,
     "metadata": {},
     "output_type": "execute_result"
    }
   ],
   "source": [
    "# ここでは、類似度の逆数をとります。\n",
    "df[\"eudist_re\"] = 1/df[\"eudist\"]\n",
    "sum(df.iloc[[1,2],4].values*df.iloc[[1,2],6].values)/sum(df.iloc[[1,2],6].values)"
   ]
  },
  {
   "cell_type": "markdown",
   "metadata": {},
   "source": [
    "### 1.2. kNN回帰\n",
    "kNN回帰を試してみます。先ほどまでと同じ結果が出てくるはずです。"
   ]
  },
  {
   "cell_type": "code",
   "execution_count": 54,
   "metadata": {},
   "outputs": [
    {
     "data": {
      "text/plain": [
       "array([4.56574145])"
      ]
     },
     "execution_count": 54,
     "metadata": {},
     "output_type": "execute_result"
    }
   ],
   "source": [
    "df_matrix = df.values\n",
    "# 学習用データ\n",
    "x_train = df_matrix[1:5, 0:4]\n",
    "y_train = df_matrix[1:5, 4]\n",
    "\n",
    "# テストデータ\n",
    "x_test = df_matrix[0, 0:4]\n",
    "\n",
    "# モデル構築\n",
    "knn2 = neighbors.KNeighborsRegressor(2, weights=\"distance\", metric=\"euclidean\")\n",
    "model2 = knn2.fit(x_train, y_train)\n",
    "\n",
    "# 予測\n",
    "model2.predict([x_test])"
   ]
  },
  {
   "cell_type": "markdown",
   "metadata": {},
   "source": [
    "# 2. BigDataでトライしてみる\n",
    "## 2.1. 前処理\n",
    "データソースは[こちら](https://grouplens.org/datasets/movielens/)のLatest small dataになります。誰が、どんな映画に対して、どのような評価（1～5段階で0.5刻み）をしたかが記録されたデータです。"
   ]
  },
  {
   "cell_type": "code",
   "execution_count": 55,
   "metadata": {},
   "outputs": [
    {
     "data": {
      "text/html": [
       "<div>\n",
       "<style scoped>\n",
       "    .dataframe tbody tr th:only-of-type {\n",
       "        vertical-align: middle;\n",
       "    }\n",
       "\n",
       "    .dataframe tbody tr th {\n",
       "        vertical-align: top;\n",
       "    }\n",
       "\n",
       "    .dataframe thead th {\n",
       "        text-align: right;\n",
       "    }\n",
       "</style>\n",
       "<table border=\"1\" class=\"dataframe\">\n",
       "  <thead>\n",
       "    <tr style=\"text-align: right;\">\n",
       "      <th></th>\n",
       "      <th>userId</th>\n",
       "      <th>movieId</th>\n",
       "      <th>rating</th>\n",
       "      <th>timestamp</th>\n",
       "    </tr>\n",
       "  </thead>\n",
       "  <tbody>\n",
       "    <tr>\n",
       "      <td>0</td>\n",
       "      <td>1</td>\n",
       "      <td>1</td>\n",
       "      <td>4.0</td>\n",
       "      <td>964982703</td>\n",
       "    </tr>\n",
       "    <tr>\n",
       "      <td>1</td>\n",
       "      <td>1</td>\n",
       "      <td>3</td>\n",
       "      <td>4.0</td>\n",
       "      <td>964981247</td>\n",
       "    </tr>\n",
       "    <tr>\n",
       "      <td>2</td>\n",
       "      <td>1</td>\n",
       "      <td>6</td>\n",
       "      <td>4.0</td>\n",
       "      <td>964982224</td>\n",
       "    </tr>\n",
       "    <tr>\n",
       "      <td>3</td>\n",
       "      <td>1</td>\n",
       "      <td>47</td>\n",
       "      <td>5.0</td>\n",
       "      <td>964983815</td>\n",
       "    </tr>\n",
       "    <tr>\n",
       "      <td>4</td>\n",
       "      <td>1</td>\n",
       "      <td>50</td>\n",
       "      <td>5.0</td>\n",
       "      <td>964982931</td>\n",
       "    </tr>\n",
       "  </tbody>\n",
       "</table>\n",
       "</div>"
      ],
      "text/plain": [
       "   userId  movieId  rating  timestamp\n",
       "0       1        1     4.0  964982703\n",
       "1       1        3     4.0  964981247\n",
       "2       1        6     4.0  964982224\n",
       "3       1       47     5.0  964983815\n",
       "4       1       50     5.0  964982931"
      ]
     },
     "execution_count": 55,
     "metadata": {},
     "output_type": "execute_result"
    }
   ],
   "source": [
    "df_rating = pd.read_csv('ratings.csv')\n",
    "df_rating.head()"
   ]
  },
  {
   "cell_type": "code",
   "execution_count": 56,
   "metadata": {},
   "outputs": [
    {
     "name": "stdout",
     "output_type": "stream",
     "text": [
      "<class 'pandas.core.frame.DataFrame'>\n",
      "RangeIndex: 100836 entries, 0 to 100835\n",
      "Data columns (total 4 columns):\n",
      "userId       100836 non-null int64\n",
      "movieId      100836 non-null int64\n",
      "rating       100836 non-null float64\n",
      "timestamp    100836 non-null int64\n",
      "dtypes: float64(1), int64(3)\n",
      "memory usage: 3.1 MB\n"
     ]
    }
   ],
   "source": [
    "df_rating.info()"
   ]
  },
  {
   "cell_type": "code",
   "execution_count": 57,
   "metadata": {},
   "outputs": [
    {
     "data": {
      "text/html": [
       "<div>\n",
       "<style scoped>\n",
       "    .dataframe tbody tr th:only-of-type {\n",
       "        vertical-align: middle;\n",
       "    }\n",
       "\n",
       "    .dataframe tbody tr th {\n",
       "        vertical-align: top;\n",
       "    }\n",
       "\n",
       "    .dataframe thead th {\n",
       "        text-align: right;\n",
       "    }\n",
       "</style>\n",
       "<table border=\"1\" class=\"dataframe\">\n",
       "  <thead>\n",
       "    <tr style=\"text-align: right;\">\n",
       "      <th></th>\n",
       "      <th>movieId</th>\n",
       "      <th>title</th>\n",
       "      <th>genres</th>\n",
       "    </tr>\n",
       "  </thead>\n",
       "  <tbody>\n",
       "    <tr>\n",
       "      <td>0</td>\n",
       "      <td>1</td>\n",
       "      <td>Toy Story (1995)</td>\n",
       "      <td>Adventure|Animation|Children|Comedy|Fantasy</td>\n",
       "    </tr>\n",
       "    <tr>\n",
       "      <td>1</td>\n",
       "      <td>2</td>\n",
       "      <td>Jumanji (1995)</td>\n",
       "      <td>Adventure|Children|Fantasy</td>\n",
       "    </tr>\n",
       "    <tr>\n",
       "      <td>2</td>\n",
       "      <td>3</td>\n",
       "      <td>Grumpier Old Men (1995)</td>\n",
       "      <td>Comedy|Romance</td>\n",
       "    </tr>\n",
       "    <tr>\n",
       "      <td>3</td>\n",
       "      <td>4</td>\n",
       "      <td>Waiting to Exhale (1995)</td>\n",
       "      <td>Comedy|Drama|Romance</td>\n",
       "    </tr>\n",
       "    <tr>\n",
       "      <td>4</td>\n",
       "      <td>5</td>\n",
       "      <td>Father of the Bride Part II (1995)</td>\n",
       "      <td>Comedy</td>\n",
       "    </tr>\n",
       "  </tbody>\n",
       "</table>\n",
       "</div>"
      ],
      "text/plain": [
       "   movieId                               title  \\\n",
       "0        1                    Toy Story (1995)   \n",
       "1        2                      Jumanji (1995)   \n",
       "2        3             Grumpier Old Men (1995)   \n",
       "3        4            Waiting to Exhale (1995)   \n",
       "4        5  Father of the Bride Part II (1995)   \n",
       "\n",
       "                                        genres  \n",
       "0  Adventure|Animation|Children|Comedy|Fantasy  \n",
       "1                   Adventure|Children|Fantasy  \n",
       "2                               Comedy|Romance  \n",
       "3                         Comedy|Drama|Romance  \n",
       "4                                       Comedy  "
      ]
     },
     "execution_count": 57,
     "metadata": {},
     "output_type": "execute_result"
    }
   ],
   "source": [
    "df_movie = pd.read_csv('movies.csv')\n",
    "df_movie.head()"
   ]
  },
  {
   "cell_type": "markdown",
   "metadata": {},
   "source": [
    "movieIdで結合"
   ]
  },
  {
   "cell_type": "code",
   "execution_count": 58,
   "metadata": {},
   "outputs": [
    {
     "data": {
      "text/html": [
       "<div>\n",
       "<style scoped>\n",
       "    .dataframe tbody tr th:only-of-type {\n",
       "        vertical-align: middle;\n",
       "    }\n",
       "\n",
       "    .dataframe tbody tr th {\n",
       "        vertical-align: top;\n",
       "    }\n",
       "\n",
       "    .dataframe thead th {\n",
       "        text-align: right;\n",
       "    }\n",
       "</style>\n",
       "<table border=\"1\" class=\"dataframe\">\n",
       "  <thead>\n",
       "    <tr style=\"text-align: right;\">\n",
       "      <th></th>\n",
       "      <th>userId</th>\n",
       "      <th>movieId</th>\n",
       "      <th>rating</th>\n",
       "      <th>timestamp</th>\n",
       "      <th>title</th>\n",
       "      <th>genres</th>\n",
       "    </tr>\n",
       "  </thead>\n",
       "  <tbody>\n",
       "    <tr>\n",
       "      <td>0</td>\n",
       "      <td>1</td>\n",
       "      <td>1</td>\n",
       "      <td>4.0</td>\n",
       "      <td>964982703</td>\n",
       "      <td>Toy Story (1995)</td>\n",
       "      <td>Adventure|Animation|Children|Comedy|Fantasy</td>\n",
       "    </tr>\n",
       "    <tr>\n",
       "      <td>1</td>\n",
       "      <td>5</td>\n",
       "      <td>1</td>\n",
       "      <td>4.0</td>\n",
       "      <td>847434962</td>\n",
       "      <td>Toy Story (1995)</td>\n",
       "      <td>Adventure|Animation|Children|Comedy|Fantasy</td>\n",
       "    </tr>\n",
       "    <tr>\n",
       "      <td>2</td>\n",
       "      <td>7</td>\n",
       "      <td>1</td>\n",
       "      <td>4.5</td>\n",
       "      <td>1106635946</td>\n",
       "      <td>Toy Story (1995)</td>\n",
       "      <td>Adventure|Animation|Children|Comedy|Fantasy</td>\n",
       "    </tr>\n",
       "    <tr>\n",
       "      <td>3</td>\n",
       "      <td>15</td>\n",
       "      <td>1</td>\n",
       "      <td>2.5</td>\n",
       "      <td>1510577970</td>\n",
       "      <td>Toy Story (1995)</td>\n",
       "      <td>Adventure|Animation|Children|Comedy|Fantasy</td>\n",
       "    </tr>\n",
       "    <tr>\n",
       "      <td>4</td>\n",
       "      <td>17</td>\n",
       "      <td>1</td>\n",
       "      <td>4.5</td>\n",
       "      <td>1305696483</td>\n",
       "      <td>Toy Story (1995)</td>\n",
       "      <td>Adventure|Animation|Children|Comedy|Fantasy</td>\n",
       "    </tr>\n",
       "  </tbody>\n",
       "</table>\n",
       "</div>"
      ],
      "text/plain": [
       "   userId  movieId  rating   timestamp             title  \\\n",
       "0       1        1     4.0   964982703  Toy Story (1995)   \n",
       "1       5        1     4.0   847434962  Toy Story (1995)   \n",
       "2       7        1     4.5  1106635946  Toy Story (1995)   \n",
       "3      15        1     2.5  1510577970  Toy Story (1995)   \n",
       "4      17        1     4.5  1305696483  Toy Story (1995)   \n",
       "\n",
       "                                        genres  \n",
       "0  Adventure|Animation|Children|Comedy|Fantasy  \n",
       "1  Adventure|Animation|Children|Comedy|Fantasy  \n",
       "2  Adventure|Animation|Children|Comedy|Fantasy  \n",
       "3  Adventure|Animation|Children|Comedy|Fantasy  \n",
       "4  Adventure|Animation|Children|Comedy|Fantasy  "
      ]
     },
     "execution_count": 58,
     "metadata": {},
     "output_type": "execute_result"
    }
   ],
   "source": [
    "df_merged = pd.merge(df_rating, df_movie, on = \"movieId\")\n",
    "df_merged.head()"
   ]
  },
  {
   "cell_type": "markdown",
   "metadata": {},
   "source": [
    "Chapter1の時と同様の形にデータを加工する。インデックスがユーザーで、カラムが映画になるようにする。"
   ]
  },
  {
   "cell_type": "code",
   "execution_count": 59,
   "metadata": {},
   "outputs": [
    {
     "data": {
      "text/html": [
       "<div>\n",
       "<style scoped>\n",
       "    .dataframe tbody tr th:only-of-type {\n",
       "        vertical-align: middle;\n",
       "    }\n",
       "\n",
       "    .dataframe tbody tr th {\n",
       "        vertical-align: top;\n",
       "    }\n",
       "\n",
       "    .dataframe thead th {\n",
       "        text-align: right;\n",
       "    }\n",
       "</style>\n",
       "<table border=\"1\" class=\"dataframe\">\n",
       "  <thead>\n",
       "    <tr style=\"text-align: right;\">\n",
       "      <th>title</th>\n",
       "      <th>'71 (2014)</th>\n",
       "      <th>'Hellboy': The Seeds of Creation (2004)</th>\n",
       "      <th>'Round Midnight (1986)</th>\n",
       "      <th>'Salem's Lot (2004)</th>\n",
       "      <th>'Til There Was You (1997)</th>\n",
       "      <th>'Tis the Season for Love (2015)</th>\n",
       "      <th>'burbs, The (1989)</th>\n",
       "      <th>'night Mother (1986)</th>\n",
       "      <th>(500) Days of Summer (2009)</th>\n",
       "      <th>*batteries not included (1987)</th>\n",
       "      <th>...</th>\n",
       "      <th>Zulu (2013)</th>\n",
       "      <th>[REC] (2007)</th>\n",
       "      <th>[REC]² (2009)</th>\n",
       "      <th>[REC]³ 3 Génesis (2012)</th>\n",
       "      <th>anohana: The Flower We Saw That Day - The Movie (2013)</th>\n",
       "      <th>eXistenZ (1999)</th>\n",
       "      <th>xXx (2002)</th>\n",
       "      <th>xXx: State of the Union (2005)</th>\n",
       "      <th>¡Three Amigos! (1986)</th>\n",
       "      <th>À nous la liberté (Freedom for Us) (1931)</th>\n",
       "    </tr>\n",
       "    <tr>\n",
       "      <th>userId</th>\n",
       "      <th></th>\n",
       "      <th></th>\n",
       "      <th></th>\n",
       "      <th></th>\n",
       "      <th></th>\n",
       "      <th></th>\n",
       "      <th></th>\n",
       "      <th></th>\n",
       "      <th></th>\n",
       "      <th></th>\n",
       "      <th></th>\n",
       "      <th></th>\n",
       "      <th></th>\n",
       "      <th></th>\n",
       "      <th></th>\n",
       "      <th></th>\n",
       "      <th></th>\n",
       "      <th></th>\n",
       "      <th></th>\n",
       "      <th></th>\n",
       "      <th></th>\n",
       "    </tr>\n",
       "  </thead>\n",
       "  <tbody>\n",
       "    <tr>\n",
       "      <td>1</td>\n",
       "      <td>NaN</td>\n",
       "      <td>NaN</td>\n",
       "      <td>NaN</td>\n",
       "      <td>NaN</td>\n",
       "      <td>NaN</td>\n",
       "      <td>NaN</td>\n",
       "      <td>NaN</td>\n",
       "      <td>NaN</td>\n",
       "      <td>NaN</td>\n",
       "      <td>NaN</td>\n",
       "      <td>...</td>\n",
       "      <td>NaN</td>\n",
       "      <td>NaN</td>\n",
       "      <td>NaN</td>\n",
       "      <td>NaN</td>\n",
       "      <td>NaN</td>\n",
       "      <td>NaN</td>\n",
       "      <td>NaN</td>\n",
       "      <td>NaN</td>\n",
       "      <td>4.0</td>\n",
       "      <td>NaN</td>\n",
       "    </tr>\n",
       "    <tr>\n",
       "      <td>2</td>\n",
       "      <td>NaN</td>\n",
       "      <td>NaN</td>\n",
       "      <td>NaN</td>\n",
       "      <td>NaN</td>\n",
       "      <td>NaN</td>\n",
       "      <td>NaN</td>\n",
       "      <td>NaN</td>\n",
       "      <td>NaN</td>\n",
       "      <td>NaN</td>\n",
       "      <td>NaN</td>\n",
       "      <td>...</td>\n",
       "      <td>NaN</td>\n",
       "      <td>NaN</td>\n",
       "      <td>NaN</td>\n",
       "      <td>NaN</td>\n",
       "      <td>NaN</td>\n",
       "      <td>NaN</td>\n",
       "      <td>NaN</td>\n",
       "      <td>NaN</td>\n",
       "      <td>NaN</td>\n",
       "      <td>NaN</td>\n",
       "    </tr>\n",
       "    <tr>\n",
       "      <td>3</td>\n",
       "      <td>NaN</td>\n",
       "      <td>NaN</td>\n",
       "      <td>NaN</td>\n",
       "      <td>NaN</td>\n",
       "      <td>NaN</td>\n",
       "      <td>NaN</td>\n",
       "      <td>NaN</td>\n",
       "      <td>NaN</td>\n",
       "      <td>NaN</td>\n",
       "      <td>NaN</td>\n",
       "      <td>...</td>\n",
       "      <td>NaN</td>\n",
       "      <td>NaN</td>\n",
       "      <td>NaN</td>\n",
       "      <td>NaN</td>\n",
       "      <td>NaN</td>\n",
       "      <td>NaN</td>\n",
       "      <td>NaN</td>\n",
       "      <td>NaN</td>\n",
       "      <td>NaN</td>\n",
       "      <td>NaN</td>\n",
       "    </tr>\n",
       "    <tr>\n",
       "      <td>4</td>\n",
       "      <td>NaN</td>\n",
       "      <td>NaN</td>\n",
       "      <td>NaN</td>\n",
       "      <td>NaN</td>\n",
       "      <td>NaN</td>\n",
       "      <td>NaN</td>\n",
       "      <td>NaN</td>\n",
       "      <td>NaN</td>\n",
       "      <td>NaN</td>\n",
       "      <td>NaN</td>\n",
       "      <td>...</td>\n",
       "      <td>NaN</td>\n",
       "      <td>NaN</td>\n",
       "      <td>NaN</td>\n",
       "      <td>NaN</td>\n",
       "      <td>NaN</td>\n",
       "      <td>NaN</td>\n",
       "      <td>NaN</td>\n",
       "      <td>NaN</td>\n",
       "      <td>NaN</td>\n",
       "      <td>NaN</td>\n",
       "    </tr>\n",
       "    <tr>\n",
       "      <td>5</td>\n",
       "      <td>NaN</td>\n",
       "      <td>NaN</td>\n",
       "      <td>NaN</td>\n",
       "      <td>NaN</td>\n",
       "      <td>NaN</td>\n",
       "      <td>NaN</td>\n",
       "      <td>NaN</td>\n",
       "      <td>NaN</td>\n",
       "      <td>NaN</td>\n",
       "      <td>NaN</td>\n",
       "      <td>...</td>\n",
       "      <td>NaN</td>\n",
       "      <td>NaN</td>\n",
       "      <td>NaN</td>\n",
       "      <td>NaN</td>\n",
       "      <td>NaN</td>\n",
       "      <td>NaN</td>\n",
       "      <td>NaN</td>\n",
       "      <td>NaN</td>\n",
       "      <td>NaN</td>\n",
       "      <td>NaN</td>\n",
       "    </tr>\n",
       "  </tbody>\n",
       "</table>\n",
       "<p>5 rows × 9719 columns</p>\n",
       "</div>"
      ],
      "text/plain": [
       "title   '71 (2014)  'Hellboy': The Seeds of Creation (2004)  \\\n",
       "userId                                                        \n",
       "1              NaN                                      NaN   \n",
       "2              NaN                                      NaN   \n",
       "3              NaN                                      NaN   \n",
       "4              NaN                                      NaN   \n",
       "5              NaN                                      NaN   \n",
       "\n",
       "title   'Round Midnight (1986)  'Salem's Lot (2004)  \\\n",
       "userId                                                \n",
       "1                          NaN                  NaN   \n",
       "2                          NaN                  NaN   \n",
       "3                          NaN                  NaN   \n",
       "4                          NaN                  NaN   \n",
       "5                          NaN                  NaN   \n",
       "\n",
       "title   'Til There Was You (1997)  'Tis the Season for Love (2015)  \\\n",
       "userId                                                               \n",
       "1                             NaN                              NaN   \n",
       "2                             NaN                              NaN   \n",
       "3                             NaN                              NaN   \n",
       "4                             NaN                              NaN   \n",
       "5                             NaN                              NaN   \n",
       "\n",
       "title   'burbs, The (1989)  'night Mother (1986)  (500) Days of Summer (2009)  \\\n",
       "userId                                                                          \n",
       "1                      NaN                   NaN                          NaN   \n",
       "2                      NaN                   NaN                          NaN   \n",
       "3                      NaN                   NaN                          NaN   \n",
       "4                      NaN                   NaN                          NaN   \n",
       "5                      NaN                   NaN                          NaN   \n",
       "\n",
       "title   *batteries not included (1987)  ...  Zulu (2013)  [REC] (2007)  \\\n",
       "userId                                  ...                              \n",
       "1                                  NaN  ...          NaN           NaN   \n",
       "2                                  NaN  ...          NaN           NaN   \n",
       "3                                  NaN  ...          NaN           NaN   \n",
       "4                                  NaN  ...          NaN           NaN   \n",
       "5                                  NaN  ...          NaN           NaN   \n",
       "\n",
       "title   [REC]² (2009)  [REC]³ 3 Génesis (2012)  \\\n",
       "userId                                           \n",
       "1                 NaN                      NaN   \n",
       "2                 NaN                      NaN   \n",
       "3                 NaN                      NaN   \n",
       "4                 NaN                      NaN   \n",
       "5                 NaN                      NaN   \n",
       "\n",
       "title   anohana: The Flower We Saw That Day - The Movie (2013)  \\\n",
       "userId                                                           \n",
       "1                                                     NaN        \n",
       "2                                                     NaN        \n",
       "3                                                     NaN        \n",
       "4                                                     NaN        \n",
       "5                                                     NaN        \n",
       "\n",
       "title   eXistenZ (1999)  xXx (2002)  xXx: State of the Union (2005)  \\\n",
       "userId                                                                \n",
       "1                   NaN         NaN                             NaN   \n",
       "2                   NaN         NaN                             NaN   \n",
       "3                   NaN         NaN                             NaN   \n",
       "4                   NaN         NaN                             NaN   \n",
       "5                   NaN         NaN                             NaN   \n",
       "\n",
       "title   ¡Three Amigos! (1986)  À nous la liberté (Freedom for Us) (1931)  \n",
       "userId                                                                    \n",
       "1                         4.0                                        NaN  \n",
       "2                         NaN                                        NaN  \n",
       "3                         NaN                                        NaN  \n",
       "4                         NaN                                        NaN  \n",
       "5                         NaN                                        NaN  \n",
       "\n",
       "[5 rows x 9719 columns]"
      ]
     },
     "execution_count": 59,
     "metadata": {},
     "output_type": "execute_result"
    }
   ],
   "source": [
    "df_pivot = pd.pivot_table(df_merged, index = \"userId\", columns= \"title\", values = \"rating\")\n",
    "df_pivot.head()"
   ]
  },
  {
   "cell_type": "markdown",
   "metadata": {},
   "source": [
    "欠損多いなぁ、一人当たりどんくらい見てるのか可視化しよう。"
   ]
  },
  {
   "cell_type": "code",
   "execution_count": 60,
   "metadata": {},
   "outputs": [
    {
     "data": {
      "text/plain": [
       "count     610.000000\n",
       "mean      165.304918\n",
       "std       269.480584\n",
       "min        20.000000\n",
       "25%        35.000000\n",
       "50%        70.500000\n",
       "75%       168.000000\n",
       "max      2698.000000\n",
       "dtype: float64"
      ]
     },
     "execution_count": 60,
     "metadata": {},
     "output_type": "execute_result"
    }
   ],
   "source": [
    "df_rating.groupby('userId').size().describe()"
   ]
  },
  {
   "cell_type": "code",
   "execution_count": 61,
   "metadata": {},
   "outputs": [
    {
     "data": {
      "text/plain": [
       "Text(215.30491803278687, 350, 'mean')"
      ]
     },
     "execution_count": 61,
     "metadata": {},
     "output_type": "execute_result"
    },
    {
     "data": {
      "image/png": "[encoded data removed]",
      "text/plain": [
       "<Figure size 432x288 with 1 Axes>"
      ]
     },
     "metadata": {
      "needs_background": "light"
     },
     "output_type": "display_data"
    }
   ],
   "source": [
    "plt.hist(df_rating.groupby('userId').size(), bins= 30)\n",
    "plt.vlines(df_rating.groupby('userId').size().mean(), 0, 400, \"red\", linestyle = \"dashed\")\n",
    "plt.text(df_rating.groupby('userId').size().mean()+50, 350, \"mean\", size = 15)"
   ]
  },
  {
   "cell_type": "markdown",
   "metadata": {},
   "source": [
    "うる覚えタイトル検索エンジン。正確なタイトルが必要なので、、"
   ]
  },
  {
   "cell_type": "code",
   "execution_count": 62,
   "metadata": {},
   "outputs": [],
   "source": [
    "def searchmovie(name):\n",
    "    print(df_movie[df_movie.title.str.contains(name,case=False)].title.unique())"
   ]
  },
  {
   "cell_type": "code",
   "execution_count": 63,
   "metadata": {},
   "outputs": [
    {
     "name": "stdout",
     "output_type": "stream",
     "text": [
      "[\"Logan's Run (1976)\" 'Logan (2017)' 'Logan Lucky (2017)']\n"
     ]
    }
   ],
   "source": [
    "searchmovie(\"logan\")"
   ]
  },
  {
   "cell_type": "markdown",
   "metadata": {},
   "source": [
    "テストデータ、つまりレコメンドを出したい人の映画レビューを設定する。今回は自分で映画のレビューを10作品くらいしてみてください！"
   ]
  },
  {
   "cell_type": "code",
   "execution_count": 64,
   "metadata": {
    "scrolled": true
   },
   "outputs": [
    {
     "data": {
      "text/html": [
       "<div>\n",
       "<style scoped>\n",
       "    .dataframe tbody tr th:only-of-type {\n",
       "        vertical-align: middle;\n",
       "    }\n",
       "\n",
       "    .dataframe tbody tr th {\n",
       "        vertical-align: top;\n",
       "    }\n",
       "\n",
       "    .dataframe thead th {\n",
       "        text-align: right;\n",
       "    }\n",
       "</style>\n",
       "<table border=\"1\" class=\"dataframe\">\n",
       "  <thead>\n",
       "    <tr style=\"text-align: right;\">\n",
       "      <th></th>\n",
       "      <th>(500) Days of Summer (2009)</th>\n",
       "      <th>Dark Knight, The (2008)</th>\n",
       "      <th>Inception (2010)</th>\n",
       "      <th>Edward Scissorhands (1990)</th>\n",
       "      <th>Whiplash (2014)</th>\n",
       "      <th>Eyes Wide Shut (1999)</th>\n",
       "      <th>Predators (2010)</th>\n",
       "      <th>The Hitman's Bodyguard (2017)</th>\n",
       "      <th>The Martian (2015)</th>\n",
       "      <th>Logan (2017)</th>\n",
       "    </tr>\n",
       "  </thead>\n",
       "  <tbody>\n",
       "    <tr>\n",
       "      <td>MY REVIEW</td>\n",
       "      <td>5</td>\n",
       "      <td>5</td>\n",
       "      <td>5</td>\n",
       "      <td>4</td>\n",
       "      <td>4</td>\n",
       "      <td>2.5</td>\n",
       "      <td>2</td>\n",
       "      <td>3</td>\n",
       "      <td>3.5</td>\n",
       "      <td>4.5</td>\n",
       "    </tr>\n",
       "  </tbody>\n",
       "</table>\n",
       "</div>"
      ],
      "text/plain": [
       "           (500) Days of Summer (2009)  Dark Knight, The (2008)  \\\n",
       "MY REVIEW                            5                        5   \n",
       "\n",
       "           Inception (2010)  Edward Scissorhands (1990)  Whiplash (2014)  \\\n",
       "MY REVIEW                 5                           4                4   \n",
       "\n",
       "           Eyes Wide Shut (1999)  Predators (2010)  \\\n",
       "MY REVIEW                    2.5                 2   \n",
       "\n",
       "           The Hitman's Bodyguard (2017)  The Martian (2015)  Logan (2017)  \n",
       "MY REVIEW                              3                 3.5           4.5  "
      ]
     },
     "execution_count": 64,
     "metadata": {},
     "output_type": "execute_result"
    }
   ],
   "source": [
    "title = ['(500) Days of Summer (2009)', 'Dark Knight, The (2008)',\n",
    "         'Inception (2010)', 'Edward Scissorhands (1990)', \n",
    "         'Whiplash (2014)','Eyes Wide Shut (1999)',\n",
    "         'Predators (2010)', \"The Hitman's Bodyguard (2017)\",\n",
    "         'The Martian (2015)', 'Logan (2017)']\n",
    "score = [[5, 5, 5, 4, 4, 2.5, 2, 3, 3.5, 4.5]]\n",
    "index = [\"MY REVIEW\"]\n",
    "df_test = pd.DataFrame(data = score, index = index ,columns = title)\n",
    "df_test.head()"
   ]
  },
  {
   "cell_type": "markdown",
   "metadata": {},
   "source": [
    "もとのデータに結合しましょう"
   ]
  },
  {
   "cell_type": "code",
   "execution_count": 65,
   "metadata": {},
   "outputs": [
    {
     "data": {
      "text/html": [
       "<div>\n",
       "<style scoped>\n",
       "    .dataframe tbody tr th:only-of-type {\n",
       "        vertical-align: middle;\n",
       "    }\n",
       "\n",
       "    .dataframe tbody tr th {\n",
       "        vertical-align: top;\n",
       "    }\n",
       "\n",
       "    .dataframe thead th {\n",
       "        text-align: right;\n",
       "    }\n",
       "</style>\n",
       "<table border=\"1\" class=\"dataframe\">\n",
       "  <thead>\n",
       "    <tr style=\"text-align: right;\">\n",
       "      <th></th>\n",
       "      <th>'71 (2014)</th>\n",
       "      <th>'Hellboy': The Seeds of Creation (2004)</th>\n",
       "      <th>'Round Midnight (1986)</th>\n",
       "      <th>'Salem's Lot (2004)</th>\n",
       "      <th>'Til There Was You (1997)</th>\n",
       "      <th>'Tis the Season for Love (2015)</th>\n",
       "      <th>'burbs, The (1989)</th>\n",
       "      <th>'night Mother (1986)</th>\n",
       "      <th>(500) Days of Summer (2009)</th>\n",
       "      <th>*batteries not included (1987)</th>\n",
       "      <th>...</th>\n",
       "      <th>Zulu (2013)</th>\n",
       "      <th>[REC] (2007)</th>\n",
       "      <th>[REC]² (2009)</th>\n",
       "      <th>[REC]³ 3 Génesis (2012)</th>\n",
       "      <th>anohana: The Flower We Saw That Day - The Movie (2013)</th>\n",
       "      <th>eXistenZ (1999)</th>\n",
       "      <th>xXx (2002)</th>\n",
       "      <th>xXx: State of the Union (2005)</th>\n",
       "      <th>¡Three Amigos! (1986)</th>\n",
       "      <th>À nous la liberté (Freedom for Us) (1931)</th>\n",
       "    </tr>\n",
       "  </thead>\n",
       "  <tbody>\n",
       "    <tr>\n",
       "      <td>607</td>\n",
       "      <td>NaN</td>\n",
       "      <td>NaN</td>\n",
       "      <td>NaN</td>\n",
       "      <td>NaN</td>\n",
       "      <td>NaN</td>\n",
       "      <td>NaN</td>\n",
       "      <td>NaN</td>\n",
       "      <td>NaN</td>\n",
       "      <td>NaN</td>\n",
       "      <td>NaN</td>\n",
       "      <td>...</td>\n",
       "      <td>NaN</td>\n",
       "      <td>NaN</td>\n",
       "      <td>NaN</td>\n",
       "      <td>NaN</td>\n",
       "      <td>NaN</td>\n",
       "      <td>NaN</td>\n",
       "      <td>NaN</td>\n",
       "      <td>NaN</td>\n",
       "      <td>NaN</td>\n",
       "      <td>NaN</td>\n",
       "    </tr>\n",
       "    <tr>\n",
       "      <td>608</td>\n",
       "      <td>NaN</td>\n",
       "      <td>NaN</td>\n",
       "      <td>NaN</td>\n",
       "      <td>NaN</td>\n",
       "      <td>NaN</td>\n",
       "      <td>NaN</td>\n",
       "      <td>NaN</td>\n",
       "      <td>NaN</td>\n",
       "      <td>NaN</td>\n",
       "      <td>NaN</td>\n",
       "      <td>...</td>\n",
       "      <td>NaN</td>\n",
       "      <td>NaN</td>\n",
       "      <td>NaN</td>\n",
       "      <td>NaN</td>\n",
       "      <td>NaN</td>\n",
       "      <td>4.5</td>\n",
       "      <td>3.5</td>\n",
       "      <td>NaN</td>\n",
       "      <td>NaN</td>\n",
       "      <td>NaN</td>\n",
       "    </tr>\n",
       "    <tr>\n",
       "      <td>609</td>\n",
       "      <td>NaN</td>\n",
       "      <td>NaN</td>\n",
       "      <td>NaN</td>\n",
       "      <td>NaN</td>\n",
       "      <td>NaN</td>\n",
       "      <td>NaN</td>\n",
       "      <td>NaN</td>\n",
       "      <td>NaN</td>\n",
       "      <td>NaN</td>\n",
       "      <td>NaN</td>\n",
       "      <td>...</td>\n",
       "      <td>NaN</td>\n",
       "      <td>NaN</td>\n",
       "      <td>NaN</td>\n",
       "      <td>NaN</td>\n",
       "      <td>NaN</td>\n",
       "      <td>NaN</td>\n",
       "      <td>NaN</td>\n",
       "      <td>NaN</td>\n",
       "      <td>NaN</td>\n",
       "      <td>NaN</td>\n",
       "    </tr>\n",
       "    <tr>\n",
       "      <td>610</td>\n",
       "      <td>4.0</td>\n",
       "      <td>NaN</td>\n",
       "      <td>NaN</td>\n",
       "      <td>NaN</td>\n",
       "      <td>NaN</td>\n",
       "      <td>NaN</td>\n",
       "      <td>NaN</td>\n",
       "      <td>NaN</td>\n",
       "      <td>3.5</td>\n",
       "      <td>NaN</td>\n",
       "      <td>...</td>\n",
       "      <td>NaN</td>\n",
       "      <td>4.0</td>\n",
       "      <td>3.5</td>\n",
       "      <td>3.0</td>\n",
       "      <td>NaN</td>\n",
       "      <td>NaN</td>\n",
       "      <td>2.0</td>\n",
       "      <td>1.5</td>\n",
       "      <td>NaN</td>\n",
       "      <td>NaN</td>\n",
       "    </tr>\n",
       "    <tr>\n",
       "      <td>MY REVIEW</td>\n",
       "      <td>NaN</td>\n",
       "      <td>NaN</td>\n",
       "      <td>NaN</td>\n",
       "      <td>NaN</td>\n",
       "      <td>NaN</td>\n",
       "      <td>NaN</td>\n",
       "      <td>NaN</td>\n",
       "      <td>NaN</td>\n",
       "      <td>5.0</td>\n",
       "      <td>NaN</td>\n",
       "      <td>...</td>\n",
       "      <td>NaN</td>\n",
       "      <td>NaN</td>\n",
       "      <td>NaN</td>\n",
       "      <td>NaN</td>\n",
       "      <td>NaN</td>\n",
       "      <td>NaN</td>\n",
       "      <td>NaN</td>\n",
       "      <td>NaN</td>\n",
       "      <td>NaN</td>\n",
       "      <td>NaN</td>\n",
       "    </tr>\n",
       "  </tbody>\n",
       "</table>\n",
       "<p>5 rows × 9719 columns</p>\n",
       "</div>"
      ],
      "text/plain": [
       "           '71 (2014)  'Hellboy': The Seeds of Creation (2004)  \\\n",
       "607               NaN                                      NaN   \n",
       "608               NaN                                      NaN   \n",
       "609               NaN                                      NaN   \n",
       "610               4.0                                      NaN   \n",
       "MY REVIEW         NaN                                      NaN   \n",
       "\n",
       "           'Round Midnight (1986)  'Salem's Lot (2004)  \\\n",
       "607                           NaN                  NaN   \n",
       "608                           NaN                  NaN   \n",
       "609                           NaN                  NaN   \n",
       "610                           NaN                  NaN   \n",
       "MY REVIEW                     NaN                  NaN   \n",
       "\n",
       "           'Til There Was You (1997)  'Tis the Season for Love (2015)  \\\n",
       "607                              NaN                              NaN   \n",
       "608                              NaN                              NaN   \n",
       "609                              NaN                              NaN   \n",
       "610                              NaN                              NaN   \n",
       "MY REVIEW                        NaN                              NaN   \n",
       "\n",
       "           'burbs, The (1989)  'night Mother (1986)  \\\n",
       "607                       NaN                   NaN   \n",
       "608                       NaN                   NaN   \n",
       "609                       NaN                   NaN   \n",
       "610                       NaN                   NaN   \n",
       "MY REVIEW                 NaN                   NaN   \n",
       "\n",
       "           (500) Days of Summer (2009)  *batteries not included (1987)  ...  \\\n",
       "607                                NaN                             NaN  ...   \n",
       "608                                NaN                             NaN  ...   \n",
       "609                                NaN                             NaN  ...   \n",
       "610                                3.5                             NaN  ...   \n",
       "MY REVIEW                          5.0                             NaN  ...   \n",
       "\n",
       "           Zulu (2013)  [REC] (2007)  [REC]² (2009)  [REC]³ 3 Génesis (2012)  \\\n",
       "607                NaN           NaN            NaN                      NaN   \n",
       "608                NaN           NaN            NaN                      NaN   \n",
       "609                NaN           NaN            NaN                      NaN   \n",
       "610                NaN           4.0            3.5                      3.0   \n",
       "MY REVIEW          NaN           NaN            NaN                      NaN   \n",
       "\n",
       "           anohana: The Flower We Saw That Day - The Movie (2013)  \\\n",
       "607                                                      NaN        \n",
       "608                                                      NaN        \n",
       "609                                                      NaN        \n",
       "610                                                      NaN        \n",
       "MY REVIEW                                                NaN        \n",
       "\n",
       "           eXistenZ (1999)  xXx (2002)  xXx: State of the Union (2005)  \\\n",
       "607                    NaN         NaN                             NaN   \n",
       "608                    4.5         3.5                             NaN   \n",
       "609                    NaN         NaN                             NaN   \n",
       "610                    NaN         2.0                             1.5   \n",
       "MY REVIEW              NaN         NaN                             NaN   \n",
       "\n",
       "           ¡Three Amigos! (1986)  À nous la liberté (Freedom for Us) (1931)  \n",
       "607                          NaN                                        NaN  \n",
       "608                          NaN                                        NaN  \n",
       "609                          NaN                                        NaN  \n",
       "610                          NaN                                        NaN  \n",
       "MY REVIEW                    NaN                                        NaN  \n",
       "\n",
       "[5 rows x 9719 columns]"
      ]
     },
     "execution_count": 65,
     "metadata": {},
     "output_type": "execute_result"
    }
   ],
   "source": [
    "df_test_new = pd.concat([df_pivot, df_test], axis = 0, sort=False)\n",
    "df_test_new.tail()"
   ]
  },
  {
   "cell_type": "markdown",
   "metadata": {},
   "source": [
    "欠損値は０にしておく"
   ]
  },
  {
   "cell_type": "code",
   "execution_count": 67,
   "metadata": {},
   "outputs": [
    {
     "data": {
      "text/html": [
       "<div>\n",
       "<style scoped>\n",
       "    .dataframe tbody tr th:only-of-type {\n",
       "        vertical-align: middle;\n",
       "    }\n",
       "\n",
       "    .dataframe tbody tr th {\n",
       "        vertical-align: top;\n",
       "    }\n",
       "\n",
       "    .dataframe thead th {\n",
       "        text-align: right;\n",
       "    }\n",
       "</style>\n",
       "<table border=\"1\" class=\"dataframe\">\n",
       "  <thead>\n",
       "    <tr style=\"text-align: right;\">\n",
       "      <th></th>\n",
       "      <th>'71 (2014)</th>\n",
       "      <th>'Hellboy': The Seeds of Creation (2004)</th>\n",
       "      <th>'Round Midnight (1986)</th>\n",
       "      <th>'Salem's Lot (2004)</th>\n",
       "      <th>'Til There Was You (1997)</th>\n",
       "      <th>'Tis the Season for Love (2015)</th>\n",
       "      <th>'burbs, The (1989)</th>\n",
       "      <th>'night Mother (1986)</th>\n",
       "      <th>(500) Days of Summer (2009)</th>\n",
       "      <th>*batteries not included (1987)</th>\n",
       "      <th>...</th>\n",
       "      <th>Zulu (2013)</th>\n",
       "      <th>[REC] (2007)</th>\n",
       "      <th>[REC]² (2009)</th>\n",
       "      <th>[REC]³ 3 Génesis (2012)</th>\n",
       "      <th>anohana: The Flower We Saw That Day - The Movie (2013)</th>\n",
       "      <th>eXistenZ (1999)</th>\n",
       "      <th>xXx (2002)</th>\n",
       "      <th>xXx: State of the Union (2005)</th>\n",
       "      <th>¡Three Amigos! (1986)</th>\n",
       "      <th>À nous la liberté (Freedom for Us) (1931)</th>\n",
       "    </tr>\n",
       "  </thead>\n",
       "  <tbody>\n",
       "    <tr>\n",
       "      <td>607</td>\n",
       "      <td>0.0</td>\n",
       "      <td>0.0</td>\n",
       "      <td>0.0</td>\n",
       "      <td>0.0</td>\n",
       "      <td>0.0</td>\n",
       "      <td>0.0</td>\n",
       "      <td>0.0</td>\n",
       "      <td>0.0</td>\n",
       "      <td>0.0</td>\n",
       "      <td>0.0</td>\n",
       "      <td>...</td>\n",
       "      <td>0.0</td>\n",
       "      <td>0.0</td>\n",
       "      <td>0.0</td>\n",
       "      <td>0.0</td>\n",
       "      <td>0.0</td>\n",
       "      <td>0.0</td>\n",
       "      <td>0.0</td>\n",
       "      <td>0.0</td>\n",
       "      <td>0.0</td>\n",
       "      <td>0.0</td>\n",
       "    </tr>\n",
       "    <tr>\n",
       "      <td>608</td>\n",
       "      <td>0.0</td>\n",
       "      <td>0.0</td>\n",
       "      <td>0.0</td>\n",
       "      <td>0.0</td>\n",
       "      <td>0.0</td>\n",
       "      <td>0.0</td>\n",
       "      <td>0.0</td>\n",
       "      <td>0.0</td>\n",
       "      <td>0.0</td>\n",
       "      <td>0.0</td>\n",
       "      <td>...</td>\n",
       "      <td>0.0</td>\n",
       "      <td>0.0</td>\n",
       "      <td>0.0</td>\n",
       "      <td>0.0</td>\n",
       "      <td>0.0</td>\n",
       "      <td>4.5</td>\n",
       "      <td>3.5</td>\n",
       "      <td>0.0</td>\n",
       "      <td>0.0</td>\n",
       "      <td>0.0</td>\n",
       "    </tr>\n",
       "    <tr>\n",
       "      <td>609</td>\n",
       "      <td>0.0</td>\n",
       "      <td>0.0</td>\n",
       "      <td>0.0</td>\n",
       "      <td>0.0</td>\n",
       "      <td>0.0</td>\n",
       "      <td>0.0</td>\n",
       "      <td>0.0</td>\n",
       "      <td>0.0</td>\n",
       "      <td>0.0</td>\n",
       "      <td>0.0</td>\n",
       "      <td>...</td>\n",
       "      <td>0.0</td>\n",
       "      <td>0.0</td>\n",
       "      <td>0.0</td>\n",
       "      <td>0.0</td>\n",
       "      <td>0.0</td>\n",
       "      <td>0.0</td>\n",
       "      <td>0.0</td>\n",
       "      <td>0.0</td>\n",
       "      <td>0.0</td>\n",
       "      <td>0.0</td>\n",
       "    </tr>\n",
       "    <tr>\n",
       "      <td>610</td>\n",
       "      <td>4.0</td>\n",
       "      <td>0.0</td>\n",
       "      <td>0.0</td>\n",
       "      <td>0.0</td>\n",
       "      <td>0.0</td>\n",
       "      <td>0.0</td>\n",
       "      <td>0.0</td>\n",
       "      <td>0.0</td>\n",
       "      <td>3.5</td>\n",
       "      <td>0.0</td>\n",
       "      <td>...</td>\n",
       "      <td>0.0</td>\n",
       "      <td>4.0</td>\n",
       "      <td>3.5</td>\n",
       "      <td>3.0</td>\n",
       "      <td>0.0</td>\n",
       "      <td>0.0</td>\n",
       "      <td>2.0</td>\n",
       "      <td>1.5</td>\n",
       "      <td>0.0</td>\n",
       "      <td>0.0</td>\n",
       "    </tr>\n",
       "    <tr>\n",
       "      <td>MY REVIEW</td>\n",
       "      <td>0.0</td>\n",
       "      <td>0.0</td>\n",
       "      <td>0.0</td>\n",
       "      <td>0.0</td>\n",
       "      <td>0.0</td>\n",
       "      <td>0.0</td>\n",
       "      <td>0.0</td>\n",
       "      <td>0.0</td>\n",
       "      <td>5.0</td>\n",
       "      <td>0.0</td>\n",
       "      <td>...</td>\n",
       "      <td>0.0</td>\n",
       "      <td>0.0</td>\n",
       "      <td>0.0</td>\n",
       "      <td>0.0</td>\n",
       "      <td>0.0</td>\n",
       "      <td>0.0</td>\n",
       "      <td>0.0</td>\n",
       "      <td>0.0</td>\n",
       "      <td>0.0</td>\n",
       "      <td>0.0</td>\n",
       "    </tr>\n",
       "  </tbody>\n",
       "</table>\n",
       "<p>5 rows × 9719 columns</p>\n",
       "</div>"
      ],
      "text/plain": [
       "           '71 (2014)  'Hellboy': The Seeds of Creation (2004)  \\\n",
       "607               0.0                                      0.0   \n",
       "608               0.0                                      0.0   \n",
       "609               0.0                                      0.0   \n",
       "610               4.0                                      0.0   \n",
       "MY REVIEW         0.0                                      0.0   \n",
       "\n",
       "           'Round Midnight (1986)  'Salem's Lot (2004)  \\\n",
       "607                           0.0                  0.0   \n",
       "608                           0.0                  0.0   \n",
       "609                           0.0                  0.0   \n",
       "610                           0.0                  0.0   \n",
       "MY REVIEW                     0.0                  0.0   \n",
       "\n",
       "           'Til There Was You (1997)  'Tis the Season for Love (2015)  \\\n",
       "607                              0.0                              0.0   \n",
       "608                              0.0                              0.0   \n",
       "609                              0.0                              0.0   \n",
       "610                              0.0                              0.0   \n",
       "MY REVIEW                        0.0                              0.0   \n",
       "\n",
       "           'burbs, The (1989)  'night Mother (1986)  \\\n",
       "607                       0.0                   0.0   \n",
       "608                       0.0                   0.0   \n",
       "609                       0.0                   0.0   \n",
       "610                       0.0                   0.0   \n",
       "MY REVIEW                 0.0                   0.0   \n",
       "\n",
       "           (500) Days of Summer (2009)  *batteries not included (1987)  ...  \\\n",
       "607                                0.0                             0.0  ...   \n",
       "608                                0.0                             0.0  ...   \n",
       "609                                0.0                             0.0  ...   \n",
       "610                                3.5                             0.0  ...   \n",
       "MY REVIEW                          5.0                             0.0  ...   \n",
       "\n",
       "           Zulu (2013)  [REC] (2007)  [REC]² (2009)  [REC]³ 3 Génesis (2012)  \\\n",
       "607                0.0           0.0            0.0                      0.0   \n",
       "608                0.0           0.0            0.0                      0.0   \n",
       "609                0.0           0.0            0.0                      0.0   \n",
       "610                0.0           4.0            3.5                      3.0   \n",
       "MY REVIEW          0.0           0.0            0.0                      0.0   \n",
       "\n",
       "           anohana: The Flower We Saw That Day - The Movie (2013)  \\\n",
       "607                                                      0.0        \n",
       "608                                                      0.0        \n",
       "609                                                      0.0        \n",
       "610                                                      0.0        \n",
       "MY REVIEW                                                0.0        \n",
       "\n",
       "           eXistenZ (1999)  xXx (2002)  xXx: State of the Union (2005)  \\\n",
       "607                    0.0         0.0                             0.0   \n",
       "608                    4.5         3.5                             0.0   \n",
       "609                    0.0         0.0                             0.0   \n",
       "610                    0.0         2.0                             1.5   \n",
       "MY REVIEW              0.0         0.0                             0.0   \n",
       "\n",
       "           ¡Three Amigos! (1986)  À nous la liberté (Freedom for Us) (1931)  \n",
       "607                          0.0                                        0.0  \n",
       "608                          0.0                                        0.0  \n",
       "609                          0.0                                        0.0  \n",
       "610                          0.0                                        0.0  \n",
       "MY REVIEW                    0.0                                        0.0  \n",
       "\n",
       "[5 rows x 9719 columns]"
      ]
     },
     "execution_count": 67,
     "metadata": {},
     "output_type": "execute_result"
    }
   ],
   "source": [
    "df_test_new = df_test_new.fillna(0)\n",
    "df_test_new.tail()"
   ]
  },
  {
   "cell_type": "markdown",
   "metadata": {},
   "source": [
    "# 2.2. kNNで予測\n",
    "自分がレビューした映画をもとに、自分に似ているユーザーを10人集める。彼らの評価をもとに、自分がレビューした映画以外のレビューを予測する。評価が高いものTop10を最終的に出力する。"
   ]
  },
  {
   "cell_type": "code",
   "execution_count": 68,
   "metadata": {},
   "outputs": [
    {
     "data": {
      "text/plain": [
       "array([[0.31221789, 0.        , 0.        , ..., 0.11708171, 1.39119185,\n",
       "        0.        ]])"
      ]
     },
     "execution_count": 68,
     "metadata": {},
     "output_type": "execute_result"
    }
   ],
   "source": [
    "# XとYに分ける\n",
    "X = df_test_new[title].values \n",
    "Y = df_test_new.drop(title, axis = 1).values\n",
    "\n",
    "# 学習用データ\n",
    "x_train = X[0:610]\n",
    "y_train = Y[0:610]\n",
    "\n",
    "\n",
    "# テストデータ\n",
    "x_test = X[610]\n",
    "\n",
    "# モデル構築\n",
    "knn10 = neighbors.KNeighborsRegressor(10, weights=\"distance\", metric=\"euclidean\")\n",
    "model10 = knn10.fit(x_train, y_train)\n",
    "\n",
    "# 予測\n",
    "pred = model10.predict([x_test])\n",
    "pred"
   ]
  },
  {
   "cell_type": "markdown",
   "metadata": {},
   "source": [
    "レコメンド結果の出力"
   ]
  },
  {
   "cell_type": "code",
   "execution_count": 72,
   "metadata": {},
   "outputs": [
    {
     "data": {
      "text/html": [
       "<div>\n",
       "<style scoped>\n",
       "    .dataframe tbody tr th:only-of-type {\n",
       "        vertical-align: middle;\n",
       "    }\n",
       "\n",
       "    .dataframe tbody tr th {\n",
       "        vertical-align: top;\n",
       "    }\n",
       "\n",
       "    .dataframe thead th {\n",
       "        text-align: right;\n",
       "    }\n",
       "</style>\n",
       "<table border=\"1\" class=\"dataframe\">\n",
       "  <thead>\n",
       "    <tr style=\"text-align: right;\">\n",
       "      <th></th>\n",
       "      <th>Star Wars: Episode V - The Empire Strikes Back (1980)</th>\n",
       "      <th>Star Wars: Episode VI - Return of the Jedi (1983)</th>\n",
       "      <th>Star Wars: Episode IV - A New Hope (1977)</th>\n",
       "      <th>Raiders of the Lost Ark (Indiana Jones and the Raiders of the Lost Ark) (1981)</th>\n",
       "      <th>Fight Club (1999)</th>\n",
       "      <th>Matrix, The (1999)</th>\n",
       "      <th>Léon: The Professional (a.k.a. The Professional) (Léon) (1994)</th>\n",
       "      <th>Gladiator (2000)</th>\n",
       "      <th>Guardians of the Galaxy (2014)</th>\n",
       "      <th>Kill Bill: Vol. 1 (2003)</th>\n",
       "      <th>...</th>\n",
       "      <th>Jesus of Montreal (Jésus de Montréal) (1989)</th>\n",
       "      <th>Jesus Christ Superstar (1973)</th>\n",
       "      <th>Jersey Boys (2014)</th>\n",
       "      <th>Jerky Boys, The (1995)</th>\n",
       "      <th>Jeremiah Johnson (1972)</th>\n",
       "      <th>Jennifer's Body (2009)</th>\n",
       "      <th>Jennifer 8 (1992)</th>\n",
       "      <th>Jeffrey (1995)</th>\n",
       "      <th>Jefferson in Paris (1995)</th>\n",
       "      <th>À nous la liberté (Freedom for Us) (1931)</th>\n",
       "    </tr>\n",
       "  </thead>\n",
       "  <tbody>\n",
       "    <tr>\n",
       "      <td>0</td>\n",
       "      <td>4.671284</td>\n",
       "      <td>4.640145</td>\n",
       "      <td>4.54727</td>\n",
       "      <td>4.512719</td>\n",
       "      <td>4.459821</td>\n",
       "      <td>4.405936</td>\n",
       "      <td>4.199433</td>\n",
       "      <td>4.180608</td>\n",
       "      <td>4.14306</td>\n",
       "      <td>4.132195</td>\n",
       "      <td>...</td>\n",
       "      <td>0.0</td>\n",
       "      <td>0.0</td>\n",
       "      <td>0.0</td>\n",
       "      <td>0.0</td>\n",
       "      <td>0.0</td>\n",
       "      <td>0.0</td>\n",
       "      <td>0.0</td>\n",
       "      <td>0.0</td>\n",
       "      <td>0.0</td>\n",
       "      <td>0.0</td>\n",
       "    </tr>\n",
       "  </tbody>\n",
       "</table>\n",
       "<p>1 rows × 9709 columns</p>\n",
       "</div>"
      ],
      "text/plain": [
       "   Star Wars: Episode V - The Empire Strikes Back (1980)  \\\n",
       "0                                           4.671284       \n",
       "\n",
       "   Star Wars: Episode VI - Return of the Jedi (1983)  \\\n",
       "0                                           4.640145   \n",
       "\n",
       "   Star Wars: Episode IV - A New Hope (1977)  \\\n",
       "0                                    4.54727   \n",
       "\n",
       "   Raiders of the Lost Ark (Indiana Jones and the Raiders of the Lost Ark) (1981)  \\\n",
       "0                                           4.512719                                \n",
       "\n",
       "   Fight Club (1999)  Matrix, The (1999)  \\\n",
       "0           4.459821            4.405936   \n",
       "\n",
       "   Léon: The Professional (a.k.a. The Professional) (Léon) (1994)  \\\n",
       "0                                           4.199433                \n",
       "\n",
       "   Gladiator (2000)  Guardians of the Galaxy (2014)  Kill Bill: Vol. 1 (2003)  \\\n",
       "0          4.180608                         4.14306                  4.132195   \n",
       "\n",
       "   ...  Jesus of Montreal (Jésus de Montréal) (1989)  \\\n",
       "0  ...                                           0.0   \n",
       "\n",
       "   Jesus Christ Superstar (1973)  Jersey Boys (2014)  Jerky Boys, The (1995)  \\\n",
       "0                            0.0                 0.0                     0.0   \n",
       "\n",
       "   Jeremiah Johnson (1972)  Jennifer's Body (2009)  Jennifer 8 (1992)  \\\n",
       "0                      0.0                     0.0                0.0   \n",
       "\n",
       "   Jeffrey (1995)  Jefferson in Paris (1995)  \\\n",
       "0             0.0                        0.0   \n",
       "\n",
       "   À nous la liberté (Freedom for Us) (1931)  \n",
       "0                                        0.0  \n",
       "\n",
       "[1 rows x 9709 columns]"
      ]
     },
     "execution_count": 72,
     "metadata": {},
     "output_type": "execute_result"
    }
   ],
   "source": [
    "recommend = pd.DataFrame(pred, columns=df_test_new.drop(title, axis = 1).columns)\n",
    "recommend.sort_values(by = 0, axis=1, ascending=False, inplace=True) #降順に並び替える\n",
    "recommend"
   ]
  },
  {
   "cell_type": "markdown",
   "metadata": {},
   "source": [
    "上位10作品を出してみる。"
   ]
  },
  {
   "cell_type": "code",
   "execution_count": 75,
   "metadata": {
    "scrolled": true
   },
   "outputs": [
    {
     "name": "stdout",
     "output_type": "stream",
     "text": [
      "1 , Star Wars: Episode V - The Empire Strikes Back (1980) point:  4.67\n",
      "2 , Star Wars: Episode VI - Return of the Jedi (1983) point:  4.64\n",
      "3 , Star Wars: Episode IV - A New Hope (1977) point:  4.55\n",
      "4 , Raiders of the Lost Ark (Indiana Jones and the Raiders of the Lost Ark) (1981) point:  4.51\n",
      "5 , Fight Club (1999) point:  4.46\n",
      "6 , Matrix, The (1999) point:  4.41\n",
      "7 , Léon: The Professional (a.k.a. The Professional) (Léon) (1994) point:  4.2\n",
      "8 , Gladiator (2000) point:  4.18\n",
      "9 , Guardians of the Galaxy (2014) point:  4.14\n",
      "10 , Kill Bill: Vol. 1 (2003) point:  4.13\n"
     ]
    }
   ],
   "source": [
    "for i in range(0, 10):\n",
    "    print(i+1,\",\", recommend.columns[i], \"point: \", round(recommend.iloc[0, i], 2) )"
   ]
  },
  {
   "cell_type": "markdown",
   "metadata": {},
   "source": [
    "今までの工程をまとめると、、"
   ]
  },
  {
   "cell_type": "code",
   "execution_count": 77,
   "metadata": {},
   "outputs": [],
   "source": [
    "def recommendation(data):\n",
    "    # テストデータを訓練データと結合\n",
    "    df_test_new = pd.concat([df_pivot, data], axis = 0, sort=False)\n",
    "    # 欠損値は0として扱う\n",
    "    df_test_new = df_test_new.fillna(0)\n",
    "    # XとYに分ける\n",
    "    X = df_test_new[title].values \n",
    "    Y = df_test_new.drop(title, axis = 1).values\n",
    "\n",
    "    # 学習用データ\n",
    "    x_train = X[0:610]\n",
    "    y_train = Y[0:610]\n",
    "\n",
    "\n",
    "    # テストデータ\n",
    "    x_test = X[610]\n",
    "\n",
    "    # モデル構築\n",
    "    knn10 = neighbors.KNeighborsRegressor(10, weights=\"distance\", metric=\"euclidean\")\n",
    "    model10 = knn10.fit(x_train, y_train)\n",
    "\n",
    "    # 予測\n",
    "    pred = model10.predict([x_test])\n",
    "    # 結果をデータフレーム化\n",
    "    recommend = pd.DataFrame(pred, columns=df_test_new.drop(title, axis = 1).columns)\n",
    "    recommend.sort_values(by = 0, axis=1, ascending=False, inplace=True) #降順に並び替える\n",
    "    # 出力\n",
    "    for i in range(0, 10):\n",
    "        print(i+1,\",\", recommend.columns[i], \"point: \", round(recommend.iloc[0, i], 2) )"
   ]
  },
  {
   "cell_type": "markdown",
   "metadata": {},
   "source": [
    "今まで観てきた映画とその評価を入力すると、レコメンドが出てくるシステムっぽいやつが出来る。データの入力の段階がイケてないけど、多分ここからはWeb開発の話やUI・UXの話になってくると思います、、。レコメンドシステムの背後には、こういうシステムが回っているんだなぁと実感してもらえればありがたいです！"
   ]
  },
  {
   "cell_type": "code",
   "execution_count": 78,
   "metadata": {},
   "outputs": [
    {
     "name": "stdout",
     "output_type": "stream",
     "text": [
      "1 , Star Wars: Episode V - The Empire Strikes Back (1980) point:  4.67\n",
      "2 , Star Wars: Episode VI - Return of the Jedi (1983) point:  4.64\n",
      "3 , Star Wars: Episode IV - A New Hope (1977) point:  4.55\n",
      "4 , Raiders of the Lost Ark (Indiana Jones and the Raiders of the Lost Ark) (1981) point:  4.51\n",
      "5 , Fight Club (1999) point:  4.46\n",
      "6 , Matrix, The (1999) point:  4.41\n",
      "7 , Léon: The Professional (a.k.a. The Professional) (Léon) (1994) point:  4.2\n",
      "8 , Gladiator (2000) point:  4.18\n",
      "9 , Guardians of the Galaxy (2014) point:  4.14\n",
      "10 , Kill Bill: Vol. 1 (2003) point:  4.13\n"
     ]
    }
   ],
   "source": [
    "##### ここから\n",
    "title = ['(500) Days of Summer (2009)', 'Dark Knight, The (2008)',\n",
    "         'Inception (2010)', 'Edward Scissorhands (1990)', \n",
    "         'Whiplash (2014)','Eyes Wide Shut (1999)',\n",
    "         'Predators (2010)', \"The Hitman's Bodyguard (2017)\",\n",
    "         'The Martian (2015)', 'Logan (2017)']\n",
    "score = [[5, 5, 5, 4, 4, 2.5, 2, 3, 3.5, 4.5]]\n",
    "##### ここまで入力してください！\n",
    "\n",
    "index = [\"MY REVIEW\"]\n",
    "df_test = pd.DataFrame(data = score, index = index ,columns = title)\n",
    "recommendation(df_test)"
   ]
  },
  {
   "cell_type": "markdown",
   "metadata": {},
   "source": [
    "## 今後に向けて\n",
    "### まだまだ考えることはある\n",
    "- ユーザーの類似度を算出する際に、ユーザーの属性情報なども追加するとより類似度が正確に予測できそう。\n",
    "- ユーザーごとに評価の基準は異なるはず、、（バイアスの話。厳しくReviewする人もいれば、緩い人もいるはず）\n",
    "- 今回は欠損値を0として扱ったが、本当に0で良いのか？\n",
    "- 近傍の数は10で良いのか？\n",
    "    - 近傍の数が多いほど、"
   ]
  },
  {
   "cell_type": "code",
   "execution_count": null,
   "metadata": {},
   "outputs": [],
   "source": []
  },
  {
   "cell_type": "code",
   "execution_count": null,
   "metadata": {},
   "outputs": [],
   "source": []
  },
  {
   "cell_type": "code",
   "execution_count": null,
   "metadata": {},
   "outputs": [],
   "source": []
  },
  {
   "cell_type": "code",
   "execution_count": null,
   "metadata": {},
   "outputs": [],
   "source": []
  }
 ],
 "metadata": {
  "kernelspec": {
   "display_name": "Python 3",
   "language": "python",
   "name": "python3"
  },
  "language_info": {
   "codemirror_mode": {
    "name": "ipython",
    "version": 3
   },
   "file_extension": ".py",
   "mimetype": "text/x-python",
   "name": "python",
   "nbconvert_exporter": "python",
   "pygments_lexer": "ipython3",
   "version": "3.7.4"
  }
 },
 "nbformat": 4,
 "nbformat_minor": 4
}
