{
 "cells": [
  {
   "cell_type": "markdown",
   "metadata": {},
   "source": [
    "# Get data from Twitter using API"
   ]
  },
  {
   "cell_type": "markdown",
   "metadata": {},
   "source": [
    "## Set library\n",
    "Help document of tweepy in Japanese is [here](https://dividable.net/programming/python/python-twitter-api-get-followers-count)."
   ]
  },
  {
   "cell_type": "code",
   "execution_count": 30,
   "metadata": {},
   "outputs": [],
   "source": [
    "import pandas as pd\n",
    "import tweepy"
   ]
  },
  {
   "cell_type": "markdown",
   "metadata": {},
   "source": [
    "## Set Twitter API"
   ]
  },
  {
   "cell_type": "code",
   "execution_count": 4,
   "metadata": {},
   "outputs": [],
   "source": [
    "# set key and token\n",
    "API_KEY = \n",
    "API_SECRET = \n",
    "ACCESS_TOKEN = \n",
    "ACCESS_TOKEN_SECRET = \n",
    "\n",
    "# authorize for tweepy\n",
    "auth = tweepy.OAuthHandler(API_KEY, API_SECRET)\n",
    "auth.set_access_token(ACCESS_TOKEN, ACCESS_TOKEN_SECRET)"
   ]
  },
  {
   "cell_type": "markdown",
   "metadata": {},
   "source": [
    "## Test using tweepy\n",
    "\n",
    "- Arguments of api.search() are documented [here](https://docs.tweepy.org/en/v3.5.0/api.html).\n",
    "- Results of api.search() are documented [here](https://developer.twitter.com/en/docs/twitter-api/v1/data-dictionary/object-model/tweet)"
   ]
  },
  {
   "cell_type": "code",
   "execution_count": 13,
   "metadata": {},
   "outputs": [],
   "source": [
    "# get a tweet included \"Python\"\n",
    "api = tweepy.API(auth)\n",
    "tweets = api.search(q=['Python'], count=5, tweet_mode='extended')"
   ]
  },
  {
   "cell_type": "code",
   "execution_count": 18,
   "metadata": {},
   "outputs": [
    {
     "name": "stdout",
     "output_type": "stream",
     "text": [
      "5\n"
     ]
    }
   ],
   "source": [
    "# tweets is array\n",
    "print(len(tweets))"
   ]
  },
  {
   "cell_type": "markdown",
   "metadata": {},
   "source": [
    "### user data"
   ]
  },
  {
   "cell_type": "code",
   "execution_count": 67,
   "metadata": {},
   "outputs": [
    {
     "name": "stdout",
     "output_type": "stream",
     "text": [
      "id:\n",
      "1331320133654962176\n",
      "\n",
      "\n",
      "number of followers:\n",
      "928\n",
      "\n",
      "\n",
      "number of friends:\n",
      "10\n",
      "\n",
      "\n",
      "account description:\n",
      "Built by @codepratik using Nodejs.\n",
      "I retweet #javascript, #Nodejs & #100DaysofCode. Improving every day 🦾.\n"
     ]
    }
   ],
   "source": [
    "# id\n",
    "print(\"id:\")\n",
    "print(tweets[0].user.id)\n",
    "print(\"\\n\")\n",
    "\n",
    "# followers\n",
    "print(\"number of followers:\")\n",
    "print(tweets[0].user.followers_count)\n",
    "print(\"\\n\")\n",
    "\n",
    "# friends\n",
    "print(\"number of friends:\")\n",
    "print(tweets[0].user.friends_count)\n",
    "print(\"\\n\")\n",
    "\n",
    "# description\n",
    "print(\"account description:\")\n",
    "print(tweets[0].user.description)"
   ]
  },
  {
   "cell_type": "code",
   "execution_count": 111,
   "metadata": {},
   "outputs": [
    {
     "name": "stdout",
     "output_type": "stream",
     "text": [
      "text\n",
      "1376431283232862210\n",
      "\n",
      "\n",
      "text\n",
      "@yu_yu_yu_dm 残念ハズレ…💦\n",
      "\n",
      "クラフトボスフルーツティーは\n",
      "4月20日に新発売します！\n",
      "\n",
      "クラフトボスTEAについて詳しくはこちら↓\n",
      "https://t.co/BdaurLlpOs https://t.co/7Kl0stoSeg\n",
      "\n",
      "\n",
      "date\n",
      "2021-03-29 07:09:25\n",
      "\n",
      "\n",
      "favorites\n",
      "0\n",
      "\n",
      "\n",
      "RT\n",
      "0\n"
     ]
    }
   ],
   "source": [
    "# id\n",
    "print(\"text\")\n",
    "print(tweets[0].id)\n",
    "print(\"\\n\")\n",
    "\n",
    "# text\n",
    "print(\"text\")\n",
    "print(tweets[0].full_text)\n",
    "print(\"\\n\")\n",
    "\n",
    "# date\n",
    "print(\"date\")\n",
    "print(tweets[0].created_at)\n",
    "print(\"\\n\")\n",
    "\n",
    "# favrorites\n",
    "print(\"favorites\")\n",
    "print(tweets[0].favorite_count)\n",
    "print(\"\\n\")\n",
    "\n",
    "# RT\n",
    "print(\"RT\")\n",
    "print(tweets[0].retweet_count)"
   ]
  },
  {
   "cell_type": "markdown",
   "metadata": {},
   "source": [
    "## Get tweets included \"クラフトボス\""
   ]
  },
  {
   "cell_type": "code",
   "execution_count": 153,
   "metadata": {},
   "outputs": [],
   "source": [
    "# get tweets\n",
    "tweets = api.search(q=[\"クラフトボス\"], count=100, tweet_mode='extended')"
   ]
  },
  {
   "cell_type": "code",
   "execution_count": 155,
   "metadata": {},
   "outputs": [],
   "source": [
    "tweet_list = []\n",
    "for tweet in tweets:\n",
    "    tweet_list.append([tweet.user.id, tweet.user.followers_count,\n",
    "                      tweet.user.friends_count, tweet.user.description,\n",
    "                      tweet.id, tweet.full_text, tweet.favorite_count, \n",
    "                      tweet.retweet_count])"
   ]
  },
  {
   "cell_type": "code",
   "execution_count": 156,
   "metadata": {},
   "outputs": [],
   "source": [
    "df_tweet_list = pd.DataFrame(tweet_list)"
   ]
  },
  {
   "cell_type": "code",
   "execution_count": 157,
   "metadata": {},
   "outputs": [
    {
     "data": {
      "text/plain": [
       "[817644193522647040,\n",
       " 38,\n",
       " 604,\n",
       " '',\n",
       " 1376432228922576898,\n",
       " 'RT @POINTJP_TSUTOMU: げつようびのプレゼント企画\\n\\nスタバドリンクチケット\\n応募方法：フォロー＆RT\\n締め切り：本日18時\\n当選人数：1名様\\n発送方法：DMでクーポン送信\\n\\nスタバドリンクチケットをプレゼント。スタバの新作をまだ飲まれてない方は是非ご参加下さ…',\n",
       " 0,\n",
       " 4392]"
      ]
     },
     "execution_count": 157,
     "metadata": {},
     "output_type": "execute_result"
    }
   ],
   "source": [
    "tweet_list[50]"
   ]
  },
  {
   "cell_type": "code",
   "execution_count": 158,
   "metadata": {},
   "outputs": [
    {
     "data": {
      "text/html": [
       "<div>\n",
       "<style scoped>\n",
       "    .dataframe tbody tr th:only-of-type {\n",
       "        vertical-align: middle;\n",
       "    }\n",
       "\n",
       "    .dataframe tbody tr th {\n",
       "        vertical-align: top;\n",
       "    }\n",
       "\n",
       "    .dataframe thead th {\n",
       "        text-align: right;\n",
       "    }\n",
       "</style>\n",
       "<table border=\"1\" class=\"dataframe\">\n",
       "  <thead>\n",
       "    <tr style=\"text-align: right;\">\n",
       "      <th></th>\n",
       "      <th>user_id</th>\n",
       "      <th>followers</th>\n",
       "      <th>friends</th>\n",
       "      <th>account_description</th>\n",
       "      <th>tweet_id</th>\n",
       "      <th>text</th>\n",
       "      <th>favorites_count</th>\n",
       "      <th>retweet_count</th>\n",
       "    </tr>\n",
       "  </thead>\n",
       "  <tbody>\n",
       "    <tr>\n",
       "      <th>0</th>\n",
       "      <td>762963046608187392</td>\n",
       "      <td>650</td>\n",
       "      <td>4995</td>\n",
       "      <td>食べるの大好きな20代大食い女子🌸 甘いものに目がない😍🍰🍧🍡🍮🍭🍩</td>\n",
       "      <td>1376436972986589189</td>\n",
       "      <td>RT @POINTJP_TSUTOMU: げつようびのプレゼント企画\\n\\nスタバドリンクチ...</td>\n",
       "      <td>0</td>\n",
       "      <td>4392</td>\n",
       "    </tr>\n",
       "    <tr>\n",
       "      <th>1</th>\n",
       "      <td>846955649053417473</td>\n",
       "      <td>107</td>\n",
       "      <td>4041</td>\n",
       "      <td></td>\n",
       "      <td>1376436806565064705</td>\n",
       "      <td>RT @POINTJP_TSUTOMU: げつようびのプレゼント企画\\n\\nスタバドリンクチ...</td>\n",
       "      <td>0</td>\n",
       "      <td>4392</td>\n",
       "    </tr>\n",
       "    <tr>\n",
       "      <th>2</th>\n",
       "      <td>1351385213713088512</td>\n",
       "      <td>25</td>\n",
       "      <td>848</td>\n",
       "      <td>当たりますように！</td>\n",
       "      <td>1376436648615927808</td>\n",
       "      <td>RT @POINTJP_TSUTOMU: げつようびのプレゼント企画\\n\\nスタバドリンクチ...</td>\n",
       "      <td>0</td>\n",
       "      <td>4392</td>\n",
       "    </tr>\n",
       "    <tr>\n",
       "      <th>3</th>\n",
       "      <td>1082276274985349126</td>\n",
       "      <td>37</td>\n",
       "      <td>1759</td>\n",
       "      <td>当てたい！</td>\n",
       "      <td>1376436648410370049</td>\n",
       "      <td>RT @POINTJP_TSUTOMU: げつようびのプレゼント企画\\n\\nスタバドリンクチ...</td>\n",
       "      <td>0</td>\n",
       "      <td>4392</td>\n",
       "    </tr>\n",
       "    <tr>\n",
       "      <th>4</th>\n",
       "      <td>1105657394770538496</td>\n",
       "      <td>224</td>\n",
       "      <td>3221</td>\n",
       "      <td>好きなもの→NBA.バスケ観賞好き　詳しくはないが映画好き　食べるの大好き　たまに雰囲気飲み...</td>\n",
       "      <td>1376436638801305600</td>\n",
       "      <td>RT @POINTJP_TSUTOMU: げつようびのプレゼント企画\\n\\nスタバドリンクチ...</td>\n",
       "      <td>0</td>\n",
       "      <td>4392</td>\n",
       "    </tr>\n",
       "  </tbody>\n",
       "</table>\n",
       "</div>"
      ],
      "text/plain": [
       "               user_id  followers  friends  \\\n",
       "0   762963046608187392        650     4995   \n",
       "1   846955649053417473        107     4041   \n",
       "2  1351385213713088512         25      848   \n",
       "3  1082276274985349126         37     1759   \n",
       "4  1105657394770538496        224     3221   \n",
       "\n",
       "                                 account_description             tweet_id  \\\n",
       "0                 食べるの大好きな20代大食い女子🌸 甘いものに目がない😍🍰🍧🍡🍮🍭🍩  1376436972986589189   \n",
       "1                                                     1376436806565064705   \n",
       "2                                          当たりますように！  1376436648615927808   \n",
       "3                                              当てたい！  1376436648410370049   \n",
       "4  好きなもの→NBA.バスケ観賞好き　詳しくはないが映画好き　食べるの大好き　たまに雰囲気飲み...  1376436638801305600   \n",
       "\n",
       "                                                text  favorites_count  \\\n",
       "0  RT @POINTJP_TSUTOMU: げつようびのプレゼント企画\\n\\nスタバドリンクチ...                0   \n",
       "1  RT @POINTJP_TSUTOMU: げつようびのプレゼント企画\\n\\nスタバドリンクチ...                0   \n",
       "2  RT @POINTJP_TSUTOMU: げつようびのプレゼント企画\\n\\nスタバドリンクチ...                0   \n",
       "3  RT @POINTJP_TSUTOMU: げつようびのプレゼント企画\\n\\nスタバドリンクチ...                0   \n",
       "4  RT @POINTJP_TSUTOMU: げつようびのプレゼント企画\\n\\nスタバドリンクチ...                0   \n",
       "\n",
       "   retweet_count  \n",
       "0           4392  \n",
       "1           4392  \n",
       "2           4392  \n",
       "3           4392  \n",
       "4           4392  "
      ]
     },
     "execution_count": 158,
     "metadata": {},
     "output_type": "execute_result"
    }
   ],
   "source": [
    "df_tweet_list = pd.DataFrame(tweet_list)\n",
    "df_tweet_list.columns = ['user_id', 'followers', 'friends', 'account_description', \n",
    "                         'tweet_id', 'text', 'favorites_count', 'retweet_count']\n",
    "df_tweet_list.head()"
   ]
  },
  {
   "cell_type": "markdown",
   "metadata": {},
   "source": [
    "## Define function"
   ]
  },
  {
   "cell_type": "code",
   "execution_count": 162,
   "metadata": {},
   "outputs": [],
   "source": [
    "def get_tweet_data(key_words):\n",
    "    tweets = api.search(q=[key_words], count=100, tweet_mode='extended', lang = 'ja')\n",
    "    \n",
    "    tweet_list = []\n",
    "    for tweet in tweets:\n",
    "        tweet_list.append([tweet.id, tweet.full_text, tweet.favorite_count, \n",
    "                      tweet.retweet_count,tweet.user.id, tweet.user.followers_count,\n",
    "                      tweet.user.friends_count, tweet.user.description])\n",
    "    \n",
    "    if len(tweet_list) == 0:\n",
    "        return(\"Error: No Data\")\n",
    "    \n",
    "    else:\n",
    "        df_tweet_list = pd.DataFrame(tweet_list)\n",
    "        df_tweet_list.columns = ['tweet_id', 'text', 'favorites_count', 'retweet_count',\n",
    "                            'user_id', 'followers', 'friends', 'account_description']\n",
    "        return(df_tweet_list)"
   ]
  },
  {
   "cell_type": "code",
   "execution_count": 165,
   "metadata": {},
   "outputs": [
    {
     "data": {
      "text/html": [
       "<div>\n",
       "<style scoped>\n",
       "    .dataframe tbody tr th:only-of-type {\n",
       "        vertical-align: middle;\n",
       "    }\n",
       "\n",
       "    .dataframe tbody tr th {\n",
       "        vertical-align: top;\n",
       "    }\n",
       "\n",
       "    .dataframe thead th {\n",
       "        text-align: right;\n",
       "    }\n",
       "</style>\n",
       "<table border=\"1\" class=\"dataframe\">\n",
       "  <thead>\n",
       "    <tr style=\"text-align: right;\">\n",
       "      <th></th>\n",
       "      <th>tweet_id</th>\n",
       "      <th>text</th>\n",
       "      <th>favorites_count</th>\n",
       "      <th>retweet_count</th>\n",
       "      <th>user_id</th>\n",
       "      <th>followers</th>\n",
       "      <th>friends</th>\n",
       "      <th>account_description</th>\n",
       "    </tr>\n",
       "  </thead>\n",
       "  <tbody>\n",
       "    <tr>\n",
       "      <th>0</th>\n",
       "      <td>1376438562011238400</td>\n",
       "      <td>小腹すいてきた。ポッキー食べたい。ないけど</td>\n",
       "      <td>0</td>\n",
       "      <td>0</td>\n",
       "      <td>1368457460843868160</td>\n",
       "      <td>7</td>\n",
       "      <td>13</td>\n",
       "      <td>主にapex。初心者。 ブロンズ 。 オクタン、ブラハ練習中 。たまにスプラ2。</td>\n",
       "    </tr>\n",
       "    <tr>\n",
       "      <th>1</th>\n",
       "      <td>1376438558429339649</td>\n",
       "      <td>RT @Okay_amazon: 第207弹🌸\\n／\\n週末💪新生活応援\\n #キャンペーン...</td>\n",
       "      <td>0</td>\n",
       "      <td>393</td>\n",
       "      <td>1328599324138360833</td>\n",
       "      <td>2961</td>\n",
       "      <td>4747</td>\n",
       "      <td>👑3人の母ちゃん❤️孫3人♡❤️9人の大家族❤️食べる事←大食いです🍴ネイル💅コスメ💄釣り🎣...</td>\n",
       "    </tr>\n",
       "    <tr>\n",
       "      <th>2</th>\n",
       "      <td>1376438448131764226</td>\n",
       "      <td>RT @Okay_amazon: 第207弹🌸\\n／\\n週末💪新生活応援\\n #キャンペーン...</td>\n",
       "      <td>0</td>\n",
       "      <td>392</td>\n",
       "      <td>1105657394770538496</td>\n",
       "      <td>224</td>\n",
       "      <td>3221</td>\n",
       "      <td>好きなもの→NBA.バスケ観賞好き　詳しくはないが映画好き　食べるの大好き　たまに雰囲気飲み...</td>\n",
       "    </tr>\n",
       "    <tr>\n",
       "      <th>3</th>\n",
       "      <td>1376438203473797126</td>\n",
       "      <td>ポッキーを半分にするにはどうするのか教えて？\\n↓\\n━一\\n↓\\nふざけないで！\\n↓\\n...</td>\n",
       "      <td>0</td>\n",
       "      <td>0</td>\n",
       "      <td>1725633962</td>\n",
       "      <td>17</td>\n",
       "      <td>0</td>\n",
       "      <td>田中の髪は短い坊主♪</td>\n",
       "    </tr>\n",
       "    <tr>\n",
       "      <th>4</th>\n",
       "      <td>1376438110737682433</td>\n",
       "      <td>9.ぜのぷろ\\n   はじめしゃちょー\\n   ポッキー\\nその他約90組</td>\n",
       "      <td>0</td>\n",
       "      <td>0</td>\n",
       "      <td>1252687607546302464</td>\n",
       "      <td>128</td>\n",
       "      <td>459</td>\n",
       "      <td>のんびり生きてます。 人類全員に人見知り /#ぜのぷろ 最高♨️ /アニメ好き ラブライブ！...</td>\n",
       "    </tr>\n",
       "    <tr>\n",
       "      <th>...</th>\n",
       "      <td>...</td>\n",
       "      <td>...</td>\n",
       "      <td>...</td>\n",
       "      <td>...</td>\n",
       "      <td>...</td>\n",
       "      <td>...</td>\n",
       "      <td>...</td>\n",
       "      <td>...</td>\n",
       "    </tr>\n",
       "    <tr>\n",
       "      <th>95</th>\n",
       "      <td>1376429209497653251</td>\n",
       "      <td>〆切昨日までのところもたくさんフォロー外れてて、イラっとしてポッキー一気食いしちゃった</td>\n",
       "      <td>0</td>\n",
       "      <td>0</td>\n",
       "      <td>1345299785171963904</td>\n",
       "      <td>2151</td>\n",
       "      <td>2944</td>\n",
       "      <td>11ヶ月男児かなたん👶を育てるアラサー主婦/育休中/無言フォロー大歓迎✨/教育関係のお仕事/...</td>\n",
       "    </tr>\n",
       "    <tr>\n",
       "      <th>96</th>\n",
       "      <td>1376429170822017030</td>\n",
       "      <td>RT @smallp331: アイマス史上初(？)の海外商品とのコラボキャンペーン？台湾の城...</td>\n",
       "      <td>0</td>\n",
       "      <td>105</td>\n",
       "      <td>3152390852</td>\n",
       "      <td>347</td>\n",
       "      <td>317</td>\n",
       "      <td>社畜なニコ生主です！おもにバイク、仮面ライダー、FPSやPCゲーム、シャニマス、デレマス、ミ...</td>\n",
       "    </tr>\n",
       "    <tr>\n",
       "      <th>97</th>\n",
       "      <td>1376428995684691970</td>\n",
       "      <td>ポッキーの音鳴らせません（笑）</td>\n",
       "      <td>0</td>\n",
       "      <td>0</td>\n",
       "      <td>1282993303</td>\n",
       "      <td>9</td>\n",
       "      <td>1</td>\n",
       "      <td>ニンジン嫌いなかばさん。ちっちゃいかばさん。ちなみに猿と同じ身長 トーク ほとんどbotに頼る</td>\n",
       "    </tr>\n",
       "    <tr>\n",
       "      <th>98</th>\n",
       "      <td>1376428933445419012</td>\n",
       "      <td>↓ポッキーサイズ</td>\n",
       "      <td>0</td>\n",
       "      <td>0</td>\n",
       "      <td>1394254448</td>\n",
       "      <td>62</td>\n",
       "      <td>13</td>\n",
       "      <td></td>\n",
       "    </tr>\n",
       "    <tr>\n",
       "      <th>99</th>\n",
       "      <td>1376428858124115970</td>\n",
       "      <td>RT @smallp331: アイマス史上初(？)の海外商品とのコラボキャンペーン？台湾の城...</td>\n",
       "      <td>0</td>\n",
       "      <td>105</td>\n",
       "      <td>223311054</td>\n",
       "      <td>4383</td>\n",
       "      <td>3494</td>\n",
       "      <td>ミリオンマスター！のラウンジマスターです。お気軽にお問い合わせどうぞ ミリオンライブ現地勢（...</td>\n",
       "    </tr>\n",
       "  </tbody>\n",
       "</table>\n",
       "<p>100 rows × 8 columns</p>\n",
       "</div>"
      ],
      "text/plain": [
       "               tweet_id                                               text  \\\n",
       "0   1376438562011238400                              小腹すいてきた。ポッキー食べたい。ないけど   \n",
       "1   1376438558429339649  RT @Okay_amazon: 第207弹🌸\\n／\\n週末💪新生活応援\\n #キャンペーン...   \n",
       "2   1376438448131764226  RT @Okay_amazon: 第207弹🌸\\n／\\n週末💪新生活応援\\n #キャンペーン...   \n",
       "3   1376438203473797126  ポッキーを半分にするにはどうするのか教えて？\\n↓\\n━一\\n↓\\nふざけないで！\\n↓\\n...   \n",
       "4   1376438110737682433              9.ぜのぷろ\\n   はじめしゃちょー\\n   ポッキー\\nその他約90組   \n",
       "..                  ...                                                ...   \n",
       "95  1376429209497653251        〆切昨日までのところもたくさんフォロー外れてて、イラっとしてポッキー一気食いしちゃった   \n",
       "96  1376429170822017030  RT @smallp331: アイマス史上初(？)の海外商品とのコラボキャンペーン？台湾の城...   \n",
       "97  1376428995684691970                                    ポッキーの音鳴らせません（笑）   \n",
       "98  1376428933445419012                                           ↓ポッキーサイズ   \n",
       "99  1376428858124115970  RT @smallp331: アイマス史上初(？)の海外商品とのコラボキャンペーン？台湾の城...   \n",
       "\n",
       "    favorites_count  retweet_count              user_id  followers  friends  \\\n",
       "0                 0              0  1368457460843868160          7       13   \n",
       "1                 0            393  1328599324138360833       2961     4747   \n",
       "2                 0            392  1105657394770538496        224     3221   \n",
       "3                 0              0           1725633962         17        0   \n",
       "4                 0              0  1252687607546302464        128      459   \n",
       "..              ...            ...                  ...        ...      ...   \n",
       "95                0              0  1345299785171963904       2151     2944   \n",
       "96                0            105           3152390852        347      317   \n",
       "97                0              0           1282993303          9        1   \n",
       "98                0              0           1394254448         62       13   \n",
       "99                0            105            223311054       4383     3494   \n",
       "\n",
       "                                  account_description  \n",
       "0            主にapex。初心者。 ブロンズ 。 オクタン、ブラハ練習中 。たまにスプラ2。  \n",
       "1   👑3人の母ちゃん❤️孫3人♡❤️9人の大家族❤️食べる事←大食いです🍴ネイル💅コスメ💄釣り🎣...  \n",
       "2   好きなもの→NBA.バスケ観賞好き　詳しくはないが映画好き　食べるの大好き　たまに雰囲気飲み...  \n",
       "3                                          田中の髪は短い坊主♪  \n",
       "4   のんびり生きてます。 人類全員に人見知り /#ぜのぷろ 最高♨️ /アニメ好き ラブライブ！...  \n",
       "..                                                ...  \n",
       "95  11ヶ月男児かなたん👶を育てるアラサー主婦/育休中/無言フォロー大歓迎✨/教育関係のお仕事/...  \n",
       "96  社畜なニコ生主です！おもにバイク、仮面ライダー、FPSやPCゲーム、シャニマス、デレマス、ミ...  \n",
       "97    ニンジン嫌いなかばさん。ちっちゃいかばさん。ちなみに猿と同じ身長 トーク ほとんどbotに頼る  \n",
       "98                                                     \n",
       "99  ミリオンマスター！のラウンジマスターです。お気軽にお問い合わせどうぞ ミリオンライブ現地勢（...  \n",
       "\n",
       "[100 rows x 8 columns]"
      ]
     },
     "execution_count": 165,
     "metadata": {},
     "output_type": "execute_result"
    }
   ],
   "source": [
    "get_tweet_data(\"ポッキー\")"
   ]
  },
  {
   "cell_type": "markdown",
   "metadata": {},
   "source": [
    "## Get data for analysis"
   ]
  },
  {
   "cell_type": "code",
   "execution_count": 175,
   "metadata": {},
   "outputs": [],
   "source": [
    "df_pocky = get_tweet_data(\"ポッキー\")\n",
    "df_toppo = get_tweet_data(\"トッポ\")"
   ]
  },
  {
   "cell_type": "code",
   "execution_count": 177,
   "metadata": {},
   "outputs": [],
   "source": [
    "# output as csv file\n",
    "df_pocky.to_csv('pocky_tweets.csv', index = False)\n",
    "df_toppo.to_csv('toppo_tweets.csv', index = False)"
   ]
  },
  {
   "cell_type": "code",
   "execution_count": null,
   "metadata": {},
   "outputs": [],
   "source": []
  }
 ],
 "metadata": {
  "kernelspec": {
   "display_name": "Python 3",
   "language": "python",
   "name": "python3"
  },
  "language_info": {
   "codemirror_mode": {
    "name": "ipython",
    "version": 3
   },
   "file_extension": ".py",
   "mimetype": "text/x-python",
   "name": "python",
   "nbconvert_exporter": "python",
   "pygments_lexer": "ipython3",
   "version": "3.8.6"
  }
 },
 "nbformat": 4,
 "nbformat_minor": 4
}
