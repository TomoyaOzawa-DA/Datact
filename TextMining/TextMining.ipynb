{
 "cells": [
  {
   "cell_type": "markdown",
   "metadata": {},
   "source": [
    "# テキストマイニング: Twitter"
   ]
  },
  {
   "cell_type": "markdown",
   "metadata": {},
   "source": [
    "## 1. はじめに<a class=\"anchor\" id=\"intro-bullet\"></a>\n",
    "### 1.1. 目的\n",
    "### 1.2. 目次\n",
    "\n",
    "1. **[はじめに](#intro-bullet)**\n",
    "2. **[データの前処理](#first-bullet)**\n",
    "3. **[形態素解析; Mecab](#second-bullet)**\n",
    "4. **[テキストの出現頻度の可視化; Wordcloud](#third-bullet)**\n",
    "5. **[テキストの繋がり; 共起ネットワーク](#fourth-bullet)**\n",
    "6. **[おわりに](#final-bullet)**"
   ]
  },
  {
   "cell_type": "markdown",
   "metadata": {},
   "source": [
    "## 2. データの前処理<a class=\"anchor\" id=\"first-bullet\"></a>"
   ]
  },
  {
   "cell_type": "markdown",
   "metadata": {},
   "source": [
    "## 3. 形態素解析; Mecab<a class=\"anchor\" id=\"second-bullet\"></a>"
   ]
  },
  {
   "cell_type": "markdown",
   "metadata": {},
   "source": [
    "## 4. テキストの出現頻度の可視化; Wordcloud<a class=\"anchor\" id=\"third-bullet\"></a>"
   ]
  },
  {
   "cell_type": "markdown",
   "metadata": {},
   "source": [
    "## 5. テキストの繋がり; 共起ネットワーク<a class=\"anchor\" id=\"fourth-bullet\"></a>"
   ]
  },
  {
   "cell_type": "markdown",
   "metadata": {},
   "source": [
    "## 6. おわりに<a class=\"anchor\" id=\"final-bullet\"></a>"
   ]
  },
  {
   "cell_type": "code",
   "execution_count": null,
   "metadata": {},
   "outputs": [],
   "source": []
  }
 ],
 "metadata": {
  "kernelspec": {
   "display_name": "Python 3",
   "language": "python",
   "name": "python3"
  },
  "language_info": {
   "codemirror_mode": {
    "name": "ipython",
    "version": 3
   },
   "file_extension": ".py",
   "mimetype": "text/x-python",
   "name": "python",
   "nbconvert_exporter": "python",
   "pygments_lexer": "ipython3",
   "version": "3.8.6"
  }
 },
 "nbformat": 4,
 "nbformat_minor": 4
}
