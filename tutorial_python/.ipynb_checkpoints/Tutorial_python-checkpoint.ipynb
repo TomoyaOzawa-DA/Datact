{
 "cells": [
  {
   "cell_type": "markdown",
   "metadata": {},
   "source": [
    "# Python Tutorial For beginners\n",
    "## Pythonの基本的な操作方法について、手を動かしながら学んでいきましょう！"
   ]
  },
  {
   "cell_type": "markdown",
   "metadata": {},
   "source": [
    "## 0. イントロダクション\n",
    "\n",
    "## 0.1. 流れ\n",
    "基本操作を学びつつ、顧客データを分析して、顧客の特徴を把握しましょう！\n",
    "1. データの読み込み\n",
    "2. データの抽出\n",
    "3. 抽出したデータの集計\n",
    "4. グループごとに集計\n",
    "\n",
    "## 0.2. 使用するデータ\n",
    "Tutorial_data.csvという名前のcsv形式のファイルを使用します。\n",
    "- どんなお客さんが、どのくらいの回数購入をしているのかを表している顧客データになります。"
   ]
  },
  {
   "cell_type": "markdown",
   "metadata": {},
   "source": [
    "## 0.3. notebookの操作について\n",
    "- コードを書く部分をセルと呼びます。\n",
    "- セルに書いてあるコードを実行する場合は、Shift＋Enterを押すと、実行されます。\n",
    "- ＋を押すと、セルが追加されます。\n",
    "- #をはじめに書くことで、セル内にメモをすることができます。この時、書いた内容に関しては反映されません。"
   ]
  },
  {
   "cell_type": "markdown",
   "metadata": {},
   "source": [
    "## 1. データをnotebook上で取り扱う準備をする。\n",
    "### 1.1. データを読み込む\n",
    " ```read_csv('ファイル名')```という操作でcsvファイルを読み込むことが出来ます。ただし、この操作は```pandas```というライブラリに入っているので、このnotebook上に読み込むことからスタートです。\n",
    " \n",
    "#### 【 Point! 】ライブラリとは、コード（道具）が入っているお道具箱のようなものです。\n",
    "- pandasというライブラリ（お道具箱）に、read_csv（csvファイルを読み込む道具）というコードが入っているイメージです。\n",
    "- pandasというライブラリを読み込むと、データを抽出したり、集計したりとデータ分析に必要な操作が可能になります。"
   ]
  },
  {
   "cell_type": "code",
   "execution_count": null,
   "metadata": {},
   "outputs": [],
   "source": [
    "# pandasを読み込んでください。pandasを使う時は、pdと略して (as) 使います。\n",
    "import pandas as pd"
   ]
  },
  {
   "cell_type": "code",
   "execution_count": null,
   "metadata": {},
   "outputs": [],
   "source": [
    "# ファイルを読み込んで、読みこんだデータに対して、dfという名前をつけます。dataframe→df\n",
    "# この時、データがnotebookと同じディレクトリ（場所）にあるかどうかを確認\n",
    "# =は代入を表しています。\n",
    "# ''と\"\"はどちらでもOKです。\n",
    "\n",
    "df = pd.read_csv('Tutorial_data.csv')"
   ]
  },
  {
   "cell_type": "markdown",
   "metadata": {},
   "source": [
    "### 1.2. データを見てみる"
   ]
  },
  {
   "cell_type": "markdown",
   "metadata": {},
   "source": [
    "読み込んだデータを表示してみましょう！"
   ]
  },
  {
   "cell_type": "code",
   "execution_count": null,
   "metadata": {
    "scrolled": true
   },
   "outputs": [],
   "source": [
    "# dfという名前のついたデータフレームを表示する。\n",
    "df"
   ]
  },
  {
   "cell_type": "markdown",
   "metadata": {},
   "source": [
    "＜データの意味＞\n",
    "- ID: 顧客に付与されているID\n",
    "- Age: 年齢\n",
    "- Sex: 性別\n",
    "- Address: 住所。地方レベル。\n",
    "- Frequency: 購入回数"
   ]
  },
  {
   "cell_type": "markdown",
   "metadata": {},
   "source": [
    "#### 【 Point! 】データフレームとは？\n",
    "データフレームとは表形式のデータのことで、Pythonでよく使われるデータ構造です。\n",
    "- index：行のラベルを表します。今回のデータだと、0, 1, 2, 3...に相当します。(注意) Pythonは、0から始まります。\n",
    "- columns：列のラベルを表します。簡単にいうと列名のことです！"
   ]
  },
  {
   "cell_type": "markdown",
   "metadata": {},
   "source": [
    "### 1.3. ちらっとデータを確認することも出来ます！\n",
    "#### 【 Point! 】データを分析していく中で、もとのデータを適宜確認することが重要になります！データの全体像を常に頭の片隅においておきましょう。"
   ]
  },
  {
   "cell_type": "code",
   "execution_count": null,
   "metadata": {
    "scrolled": true
   },
   "outputs": [],
   "source": [
    "# 最初の5行だけ表示する。デフォルトで5行表示されます。()に数字を入れると、その行分表示される。\n",
    "df.head()"
   ]
  },
  {
   "cell_type": "code",
   "execution_count": null,
   "metadata": {},
   "outputs": [],
   "source": []
  },
  {
   "cell_type": "code",
   "execution_count": null,
   "metadata": {},
   "outputs": [],
   "source": [
    "# 最後の5行だけ表示する。\n",
    "df.tail()"
   ]
  },
  {
   "cell_type": "markdown",
   "metadata": {},
   "source": [
    "## 2. データを抽出してみる。"
   ]
  },
  {
   "cell_type": "markdown",
   "metadata": {},
   "source": [
    "この章では、indexやcolumns（つまり、行や列）を指定して、データを抜き取ってみましょう！\n",
    "#### 【 Point! 】いつデータを抽出するのか？\n",
    "- 分析に必要な列だけを扱いたい時\n",
    "- グラフを作成する際には、x軸・y軸に必要なデータだけを取り出す必要がある。"
   ]
  },
  {
   "cell_type": "markdown",
   "metadata": {},
   "source": [
    "### 2.1. 列を指定してデータを抽出する。"
   ]
  },
  {
   "cell_type": "markdown",
   "metadata": {},
   "source": [
    "```データフレーム名.列名``` とすることで、抽出出来る。"
   ]
  },
  {
   "cell_type": "code",
   "execution_count": null,
   "metadata": {},
   "outputs": [],
   "source": [
    "# Ageという列のデータを抽出する。\n",
    "df.Age"
   ]
  },
  {
   "cell_type": "code",
   "execution_count": null,
   "metadata": {},
   "outputs": [],
   "source": [
    "# IDという列のデータを抽出する。\n",
    "df.ID"
   ]
  },
  {
   "cell_type": "markdown",
   "metadata": {},
   "source": [
    "```データフレーム名 ['列名'] ```というやり方もある。"
   ]
  },
  {
   "cell_type": "code",
   "execution_count": null,
   "metadata": {},
   "outputs": [],
   "source": [
    "# Ageという列のデータを抽出する。\n",
    "df['Age']"
   ]
  },
  {
   "cell_type": "code",
   "execution_count": null,
   "metadata": {},
   "outputs": [],
   "source": [
    "# IDという列のデータを抽出する。\n",
    "df['ID']"
   ]
  },
  {
   "cell_type": "markdown",
   "metadata": {},
   "source": [
    "#### 【 Try 】dfというデータフレームから、Addressという列を抽出してみよう！"
   ]
  },
  {
   "cell_type": "code",
   "execution_count": null,
   "metadata": {},
   "outputs": [],
   "source": []
  },
  {
   "cell_type": "markdown",
   "metadata": {},
   "source": [
    "### 2.2 複数の列を抽出してみる。"
   ]
  },
  {
   "cell_type": "markdown",
   "metadata": {},
   "source": [
    "```データフレーム名 [ ['列名１', '列名２'] ]``` とすることで、抽出出来る。\n",
    "AgeとSexという2列を抽出してみましょう！"
   ]
  },
  {
   "cell_type": "code",
   "execution_count": null,
   "metadata": {},
   "outputs": [],
   "source": [
    "# dfからAgeとSexの2列を抽出します\n",
    "df[['Age', 'Sex']]"
   ]
  },
  {
   "cell_type": "markdown",
   "metadata": {},
   "source": [
    "#### 【 Try 】dfというデータフレームから、AddressとFrequnecyという列を抽出してみよう！"
   ]
  },
  {
   "cell_type": "code",
   "execution_count": null,
   "metadata": {},
   "outputs": [],
   "source": []
  },
  {
   "cell_type": "markdown",
   "metadata": {},
   "source": [
    "## 3. 抽出したデータを集計してみる。"
   ]
  },
  {
   "cell_type": "markdown",
   "metadata": {},
   "source": [
    "#### 【 Point! 】集計することで、データの特徴をイメージすることが出来る。"
   ]
  },
  {
   "cell_type": "markdown",
   "metadata": {},
   "source": [
    "```集計したいデータ.集計方法``` とすることで、集計出来ます。"
   ]
  },
  {
   "cell_type": "markdown",
   "metadata": {},
   "source": [
    "### 3.1. 平均を出してみる。"
   ]
  },
  {
   "cell_type": "markdown",
   "metadata": {},
   "source": [
    "平均を出す時は、```.mean()```を使用する。```集計したいデータ.mean()```と書きます。"
   ]
  },
  {
   "cell_type": "markdown",
   "metadata": {},
   "source": [
    "#### 【Example】お客さんの平均年齢を把握する"
   ]
  },
  {
   "cell_type": "code",
   "execution_count": null,
   "metadata": {
    "scrolled": true
   },
   "outputs": [],
   "source": [
    "# 年齢の平均値を集計する。\n",
    "df.Age.mean()"
   ]
  },
  {
   "cell_type": "markdown",
   "metadata": {},
   "source": [
    "#### 【 Try 】購買回数（Frequency）の平均値を出してみましょう！"
   ]
  },
  {
   "cell_type": "code",
   "execution_count": null,
   "metadata": {},
   "outputs": [],
   "source": []
  },
  {
   "cell_type": "markdown",
   "metadata": {},
   "source": [
    "### 3.2. 値の個数をカウントしてみる"
   ]
  },
  {
   "cell_type": "markdown",
   "metadata": {},
   "source": [
    "値の数を算出する時には、```.count()```を使用する。"
   ]
  },
  {
   "cell_type": "markdown",
   "metadata": {},
   "source": [
    "#### 【Example】お客さんが何人いるのかを把握する。"
   ]
  },
  {
   "cell_type": "code",
   "execution_count": null,
   "metadata": {},
   "outputs": [],
   "source": [
    "# IDの値の個数をカウントする。\n",
    "df.ID.count()"
   ]
  },
  {
   "cell_type": "markdown",
   "metadata": {},
   "source": [
    "## 4. データをグループごとに集計する。"
   ]
  },
  {
   "cell_type": "markdown",
   "metadata": {},
   "source": [
    "#### 【 Point! 】グループごとに集計することで、グループ間で比較することが出来る！\n",
    "#### 【 Point! 】月ごとに集計することで、月ごとの値の変化が見れます。（詳しくは、ハンズオン2にて）"
   ]
  },
  {
   "cell_type": "markdown",
   "metadata": {},
   "source": [
    " #### 【Example】男性と女性のお客さんで差があるのだろうか？"
   ]
  },
  {
   "cell_type": "markdown",
   "metadata": {},
   "source": [
    "性別ごとに集計してみましょう！\n",
    "グループごとに同じ操作を加えたい時は、```groupby('グループごとに集計したい列名').操作名```というコードを使います。"
   ]
  },
  {
   "cell_type": "markdown",
   "metadata": {},
   "source": [
    "##### 例えば、性別ごとの平均値を集計してみましょう！"
   ]
  },
  {
   "cell_type": "code",
   "execution_count": null,
   "metadata": {},
   "outputs": [],
   "source": [
    "# 数字が入っている列でのみ、平均値が算出されます。Addressという列には、文字が入っているので、平均値は算出されません。\n",
    "df.groupby('Sex').mean()"
   ]
  },
  {
   "cell_type": "markdown",
   "metadata": {},
   "source": [
    "データフレームになっています。なので、先程と同様に列名を指定出来ます。"
   ]
  },
  {
   "cell_type": "markdown",
   "metadata": {},
   "source": [
    "年齢という列を抽出してみましょう！"
   ]
  },
  {
   "cell_type": "code",
   "execution_count": null,
   "metadata": {
    "scrolled": true
   },
   "outputs": [],
   "source": [
    "df.groupby('Sex').mean().Age"
   ]
  },
  {
   "cell_type": "markdown",
   "metadata": {},
   "source": [
    "#### 【 Try 】地域ごとでお客さんに差があるのだろうか？住所（Address）ごとに要素をカウントして、地域ごとに差があるかどうかを確認してみましょう！\n",
    "ヒント：どんなグループごとに集計したいのだろうか？集計方法はなんだろうか？"
   ]
  },
  {
   "cell_type": "code",
   "execution_count": null,
   "metadata": {},
   "outputs": [],
   "source": []
  },
  {
   "cell_type": "code",
   "execution_count": null,
   "metadata": {},
   "outputs": [],
   "source": []
  }
 ],
 "metadata": {
  "kernelspec": {
   "display_name": "Python 3",
   "language": "python",
   "name": "python3"
  },
  "language_info": {
   "codemirror_mode": {
    "name": "ipython",
    "version": 3
   },
   "file_extension": ".py",
   "mimetype": "text/x-python",
   "name": "python",
   "nbconvert_exporter": "python",
   "pygments_lexer": "ipython3",
   "version": "3.8.6"
  }
 },
 "nbformat": 4,
 "nbformat_minor": 4
}
